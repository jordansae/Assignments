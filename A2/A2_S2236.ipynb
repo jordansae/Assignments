{
 "cells": [
  {
   "cell_type": "markdown",
   "metadata": {
    "collapsed": true,
    "deletable": false,
    "editable": false,
    "nbgrader": {
     "checksum": "69dc79a98716b6e1164c70b1e4e20d44",
     "grade": false,
     "grade_id": "title",
     "locked": true,
     "schema_version": 1,
     "solution": false
    }
   },
   "source": [
    "# COGS 108 - Assignment 2: Data Exploration"
   ]
  },
  {
   "cell_type": "markdown",
   "metadata": {
    "deletable": false,
    "editable": false,
    "nbgrader": {
     "checksum": "6bd43e62af7d49f51ac09948203cccaa",
     "grade": false,
     "grade_id": "submission",
     "locked": true,
     "schema_version": 1,
     "solution": false
    }
   },
   "source": [
    "# Important\n",
    "\n",
    "- Rename this file to 'A2_$####.ipynb' (filled in with your unique course ID) before you submit it. Submit it to TritonED.\n",
    "- This assignment has hidden tests: tests that are not visible here, but that will be run on your submitted assignment.\n",
    "    - This means passing all the tests you can see in the notebook here does not guarantee you have the right answer!\n",
    "- Each coding question in this assignment only requires a small amount of code, about 1-3 lines. \n",
    "    - If you find yourself writing much more than that, you might want to reconsider your approach. \n",
    "    - A reminder that the Tutorials notebooks often contain similar examples to those used in the assignments.\n",
    "- This assignment also has some written answers, in which you will write a short response (in text, not code). \n",
    "    - These questions are referred to as 'W#', and will be followed by a markdown cell in which you can write your answer. \n",
    "    - These are short answer questions, prompting you to think about the approaches we are using. \n",
    "    - You answers can and should be fairly brief, typically about 1-2 sentences."
   ]
  },
  {
   "cell_type": "code",
   "execution_count": 1,
   "metadata": {
    "collapsed": true,
    "deletable": false,
    "editable": false,
    "nbgrader": {
     "checksum": "ac51be380aa34b8079a317e965d264cd",
     "grade": false,
     "grade_id": "cell-fca732b050a3b0b8",
     "locked": true,
     "schema_version": 1,
     "solution": false
    }
   },
   "outputs": [],
   "source": [
    "# Imports\n",
    "#  Note: these are all the imports you need! Do not import any other functions / packages\n",
    "%matplotlib inline\n",
    "\n",
    "import numpy as np\n",
    "import pandas as pd\n",
    "import matplotlib.pyplot as plt"
   ]
  },
  {
   "cell_type": "markdown",
   "metadata": {
    "deletable": false,
    "editable": false,
    "nbgrader": {
     "checksum": "c1a90608d79a13475e6c8627c0d0ecbd",
     "grade": false,
     "grade_id": "part1",
     "locked": true,
     "schema_version": 1,
     "solution": false
    }
   },
   "source": [
    "## Part 1 - Data Wrangling\n",
    "\n",
    "For this assignment, you are provided with two data files:\n",
    "- age_steps.csv\n",
    "- name_income_id.json"
   ]
  },
  {
   "cell_type": "code",
   "execution_count": 2,
   "metadata": {
    "deletable": false,
    "nbgrader": {
     "checksum": "13bb8a019e9ddddc303e0d5cc160d445",
     "grade": false,
     "grade_id": "load_steps",
     "locked": false,
     "schema_version": 1,
     "solution": true
    }
   },
   "outputs": [
    {
     "name": "stdout",
     "output_type": "stream",
     "text": [
      "         id  age  steps\n",
      "0       125   41  17545\n",
      "1       170   38  27851\n",
      "2       193   49  16507\n",
      "3       291   37  24488\n",
      "4       315   46  10468\n",
      "5       412   44  16895\n",
      "6       480   32  15574\n",
      "7       689   49  18892\n",
      "8       704   67  14127\n",
      "9       967   53  24145\n",
      "10      992   72   8829\n",
      "11     1095   50  15676\n",
      "12     1252   55  14602\n",
      "13     1335   50   9444\n",
      "14     1467   72     -1\n",
      "15     1527   59   8086\n",
      "16     1545   36  18504\n",
      "17     1567   68  19049\n",
      "18     1666   59  18463\n",
      "19     1797   56  17193\n",
      "20     1849   73  10113\n",
      "21     2000   56  15299\n",
      "22     2349   56  23411\n",
      "23     2373   38  18557\n",
      "24     2481   59  13144\n",
      "25     2521   55  13061\n",
      "26     2588   80   8746\n",
      "27     2652   51  14076\n",
      "28     2754   51  14893\n",
      "29     2762   56  17658\n",
      "...     ...  ...    ...\n",
      "1470  98425   36  15637\n",
      "1471  98507   28  11558\n",
      "1472  98599   48  14382\n",
      "1473  98683   63  15848\n",
      "1474  98705   49  14070\n",
      "1475  98735   77  21519\n",
      "1476  98873   45  18349\n",
      "1477  98898   43  13283\n",
      "1478  98918   53  12337\n",
      "1479  98963   55  11652\n",
      "1480  98992   44  19808\n",
      "1481  99004   36  16833\n",
      "1482  99028   67  15044\n",
      "1483  99033   52  18777\n",
      "1484  99133   36  19516\n",
      "1485  99190   51  14728\n",
      "1486  99262   50  12922\n",
      "1487  99344   41     -1\n",
      "1488  99393   27  20049\n",
      "1489  99403   62  15307\n",
      "1490  99454   28  18636\n",
      "1491  99466   52  15134\n",
      "1492  99471   53  19112\n",
      "1493  99526   52   9837\n",
      "1494  99585   30  19042\n",
      "1495  99649   44  18130\n",
      "1496  99742   38  12942\n",
      "1497  99757   31  20126\n",
      "1498  99813   63  10941\n",
      "1499  99946   29  18726\n",
      "\n",
      "[1500 rows x 3 columns]\n"
     ]
    }
   ],
   "source": [
    "# 1a) Load the csv file into a pandas dataframe. Call it 'df_steps'.\n",
    "\n",
    "# YOUR CODE HERE\n",
    "df_steps = pd.read_csv(\"age_steps.csv\")\n",
    "print(df_steps)"
   ]
  },
  {
   "cell_type": "code",
   "execution_count": 3,
   "metadata": {
    "collapsed": true,
    "deletable": false,
    "editable": false,
    "nbgrader": {
     "checksum": "aa0433797200dc12a0ec2eab981f6a3c",
     "grade": true,
     "grade_id": "test_load_steps",
     "locked": true,
     "points": 0.5,
     "schema_version": 1,
     "solution": false
    }
   },
   "outputs": [],
   "source": [
    "# Tests for 1a\n",
    "\n",
    "assert isinstance(df_steps, pd.DataFrame)\n"
   ]
  },
  {
   "cell_type": "code",
   "execution_count": 4,
   "metadata": {
    "deletable": false,
    "nbgrader": {
     "checksum": "260c6ee35c63b51b899bd42a11c16bb0",
     "grade": false,
     "grade_id": "load_income",
     "locked": false,
     "schema_version": 1,
     "solution": true
    }
   },
   "outputs": [
    {
     "name": "stdout",
     "output_type": "stream",
     "text": [
      "       first_name     id     income  last_name\n",
      "0           David  41008   35081.75     Acosta\n",
      "1       Stephanie  80974   21240.47      Adams\n",
      "2     Christopher  49639   18789.55      Adams\n",
      "3         Tiffany  86949   23302.03      Adams\n",
      "4        Patricia  76586    9862.30      Adams\n",
      "5           Brian  85016   27092.51      Adams\n",
      "6           Billy  40864   18229.02      Adams\n",
      "7           Tammy  46642   21814.85     Adkins\n",
      "8          Nathan  28875    9967.79    Aguilar\n",
      "9       Christian  23792   15443.25    Aguirre\n",
      "10       Kimberly  14036   12523.10  Alexander\n",
      "11    Christopher  42479   51972.76      Allen\n",
      "12           Lynn  12669    6716.17      Allen\n",
      "13         Edward  30193    5803.22      Allen\n",
      "14      Christina  58683   59941.80    Allison\n",
      "15           Eric  94150   20318.97    Alvarez\n",
      "16          Isaac  93229    4480.07    Alvarez\n",
      "17         Robert  46993    1069.19    Alvarez\n",
      "18          Jason  45211   14430.17    Alvarez\n",
      "19       Jennifer   6429    8158.18   Andersen\n",
      "20        Jeffrey  57354    6850.81   Andersen\n",
      "21          Scott  85343   31669.95   Anderson\n",
      "22       Margaret  61066   10015.62   Anderson\n",
      "23          Sarah  85462   27058.26   Anderson\n",
      "24       Brittany  76509   29813.42   Anderson\n",
      "25         Rachel   5277       0.00   Anderson\n",
      "26          Derek  25090   28898.60   Anderson\n",
      "27          Danny  44373   47944.63   Anderson\n",
      "28      Christine  88506   95960.82   Anderson\n",
      "29           Lisa  99471   16685.41   Anderson\n",
      "...           ...    ...        ...        ...\n",
      "1470       Carlos  57888   28502.49       Wood\n",
      "1471     Michelle  10762   11527.20       Wood\n",
      "1472    Elizabeth  29437   38191.15       Wood\n",
      "1473       Sergio  87289    2377.00      Woods\n",
      "1474        Larry  41241   36799.91   Woodward\n",
      "1475        David  31617   32784.95     Wright\n",
      "1476     Michelle  96969    8671.32     Wright\n",
      "1477         Anna  91669   14350.00     Wright\n",
      "1478        Jenna  55509        NaN     Wright\n",
      "1479        Karen  65591   11156.43     Wright\n",
      "1480      Natalie   8003    9015.05     Wright\n",
      "1481      Jessica   6822   34160.82     Wright\n",
      "1482      Melinda  30714   45181.04         Wu\n",
      "1483        Debra  78516    6940.43         Wu\n",
      "1484       Nicole  40332   66662.56      Wyatt\n",
      "1485        Scott  67022   24378.05       Yang\n",
      "1486       Justin  13224   22064.54       Yang\n",
      "1487      Patrick  82242    5037.08      Yoder\n",
      "1488         Erin  98314  118390.83      Young\n",
      "1489       Angela  86234   31595.03      Young\n",
      "1490        Terri  20327   84890.91      Young\n",
      "1491      Jessica  58739   12004.92      Young\n",
      "1492      Michael  64715   11775.07      Young\n",
      "1493     Patricia  68305   11054.50      Young\n",
      "1494     Jennifer  31664        NaN     Zamora\n",
      "1495       Alicia  71934   25395.60  Zimmerman\n",
      "1496        Laura  61816   33109.29  Zimmerman\n",
      "1497        Jason  76678   53459.19  Zimmerman\n",
      "1498      Cynthia  68333    2558.86  Zimmerman\n",
      "1499      Richard  61085   15291.00     Zuniga\n",
      "\n",
      "[1500 rows x 4 columns]\n"
     ]
    }
   ],
   "source": [
    "# 1b) Load the json file into a (different) pandas dataframe. Call it 'df_income'.\n",
    "\n",
    "# YOUR CODE HERE\n",
    "df_income = pd.read_json(\"name_income_id.json\")\n",
    "print(df_income)"
   ]
  },
  {
   "cell_type": "code",
   "execution_count": 5,
   "metadata": {
    "collapsed": true,
    "deletable": false,
    "editable": false,
    "nbgrader": {
     "checksum": "7a83fda67ef4e043d115ded5924194df",
     "grade": true,
     "grade_id": "test_load_income",
     "locked": true,
     "points": 0.5,
     "schema_version": 1,
     "solution": false
    }
   },
   "outputs": [],
   "source": [
    "# Tests for 1b\n",
    "\n",
    "assert isinstance(df_income, pd.DataFrame)\n"
   ]
  },
  {
   "cell_type": "code",
   "execution_count": 6,
   "metadata": {
    "deletable": false,
    "nbgrader": {
     "checksum": "4ebd624ef655a050fca3adbe8fe15dbf",
     "grade": false,
     "grade_id": "drop_extra_cols",
     "locked": false,
     "schema_version": 1,
     "solution": true
    }
   },
   "outputs": [
    {
     "name": "stdout",
     "output_type": "stream",
     "text": [
      "         id     income\n",
      "0     41008   35081.75\n",
      "1     80974   21240.47\n",
      "2     49639   18789.55\n",
      "3     86949   23302.03\n",
      "4     76586    9862.30\n",
      "5     85016   27092.51\n",
      "6     40864   18229.02\n",
      "7     46642   21814.85\n",
      "8     28875    9967.79\n",
      "9     23792   15443.25\n",
      "10    14036   12523.10\n",
      "11    42479   51972.76\n",
      "12    12669    6716.17\n",
      "13    30193    5803.22\n",
      "14    58683   59941.80\n",
      "15    94150   20318.97\n",
      "16    93229    4480.07\n",
      "17    46993    1069.19\n",
      "18    45211   14430.17\n",
      "19     6429    8158.18\n",
      "20    57354    6850.81\n",
      "21    85343   31669.95\n",
      "22    61066   10015.62\n",
      "23    85462   27058.26\n",
      "24    76509   29813.42\n",
      "25     5277       0.00\n",
      "26    25090   28898.60\n",
      "27    44373   47944.63\n",
      "28    88506   95960.82\n",
      "29    99471   16685.41\n",
      "...     ...        ...\n",
      "1470  57888   28502.49\n",
      "1471  10762   11527.20\n",
      "1472  29437   38191.15\n",
      "1473  87289    2377.00\n",
      "1474  41241   36799.91\n",
      "1475  31617   32784.95\n",
      "1476  96969    8671.32\n",
      "1477  91669   14350.00\n",
      "1478  55509        NaN\n",
      "1479  65591   11156.43\n",
      "1480   8003    9015.05\n",
      "1481   6822   34160.82\n",
      "1482  30714   45181.04\n",
      "1483  78516    6940.43\n",
      "1484  40332   66662.56\n",
      "1485  67022   24378.05\n",
      "1486  13224   22064.54\n",
      "1487  82242    5037.08\n",
      "1488  98314  118390.83\n",
      "1489  86234   31595.03\n",
      "1490  20327   84890.91\n",
      "1491  58739   12004.92\n",
      "1492  64715   11775.07\n",
      "1493  68305   11054.50\n",
      "1494  31664        NaN\n",
      "1495  71934   25395.60\n",
      "1496  61816   33109.29\n",
      "1497  76678   53459.19\n",
      "1498  68333    2558.86\n",
      "1499  61085   15291.00\n",
      "\n",
      "[1500 rows x 2 columns]\n"
     ]
    }
   ],
   "source": [
    "# 1c) Drop the 'first_name' and 'last_name' columns from the df_income data frame.\n",
    "\n",
    "# YOUR CODE HERE\n",
    "df_income = df_income.drop(['first_name', 'last_name'], axis = 1)\n",
    "print(df_income)"
   ]
  },
  {
   "cell_type": "code",
   "execution_count": 7,
   "metadata": {
    "collapsed": true,
    "deletable": false,
    "editable": false,
    "nbgrader": {
     "checksum": "35e6f960fc75af2fb639db1c426bbf2f",
     "grade": true,
     "grade_id": "test_drop_ext_cols",
     "locked": true,
     "points": 0.25,
     "schema_version": 1,
     "solution": false
    }
   },
   "outputs": [],
   "source": [
    "# Tests for 1c\n",
    "\n",
    "assert 'first_name' not in df_income.columns\n",
    "assert 'last_name' not in df_income.columns"
   ]
  },
  {
   "cell_type": "code",
   "execution_count": 8,
   "metadata": {},
   "outputs": [
    {
     "name": "stdout",
     "output_type": "stream",
     "text": [
      "         id  age  steps     income\n",
      "0       125   41  17545   14275.46\n",
      "1       170   38  27851   18030.66\n",
      "2       193   49  16507   11246.64\n",
      "3       291   37  24488    5395.10\n",
      "4       315   46  10468    4834.24\n",
      "5       412   44  16895    4044.98\n",
      "6       480   32  15574   10035.88\n",
      "7       689   49  18892   10607.42\n",
      "8       704   67  14127   16616.84\n",
      "9       967   53  24145   22101.16\n",
      "10      992   72   8829   22748.16\n",
      "11     1095   50  15676   11390.07\n",
      "12     1252   55  14602   20003.66\n",
      "13     1335   50   9444    5714.88\n",
      "14     1467   72     -1  115055.17\n",
      "15     1527   59   8086       0.00\n",
      "16     1545   36  18504   12359.43\n",
      "17     1567   68  19049   24973.75\n",
      "18     1666   59  18463   81222.63\n",
      "19     1797   56  17193   21539.84\n",
      "20     1849   73  10113   39628.83\n",
      "21     2000   56  15299   17127.65\n",
      "22     2349   56  23411   40028.32\n",
      "23     2373   38  18557       0.00\n",
      "24     2481   59  13144   29205.16\n",
      "25     2521   55  13061  101819.97\n",
      "26     2588   80   8746   73068.97\n",
      "27     2652   51  14076    1654.15\n",
      "28     2754   51  14893   12017.54\n",
      "29     2762   56  17658   39920.39\n",
      "...     ...  ...    ...        ...\n",
      "1500  98425   36  15637       0.00\n",
      "1501  98507   28  11558       0.00\n",
      "1502  98599   48  14382   37865.88\n",
      "1503  98683   63  15848   34219.38\n",
      "1504  98705   49  14070    9213.15\n",
      "1505  98735   77  21519   30164.52\n",
      "1506  98873   45  18349   19934.70\n",
      "1507  98898   43  13283   34763.41\n",
      "1508  98918   53  12337   39334.74\n",
      "1509  98963   55  11652   49636.05\n",
      "1510  98992   44  19808   13014.01\n",
      "1511  99004   36  16833   43708.27\n",
      "1512  99028   67  15044   24475.49\n",
      "1513  99033   52  18777   57608.14\n",
      "1514  99133   36  19516    4701.69\n",
      "1515  99190   51  14728    8143.81\n",
      "1516  99262   50  12922   11864.33\n",
      "1517  99344   41     -1  323162.93\n",
      "1518  99393   27  20049   15408.34\n",
      "1519  99403   62  15307   34836.67\n",
      "1520  99454   28  18636    4906.83\n",
      "1521  99466   52  15134  113679.26\n",
      "1522  99471   53  19112   16685.41\n",
      "1523  99526   52   9837   81199.92\n",
      "1524  99585   30  19042    7637.69\n",
      "1525  99649   44  18130   15639.94\n",
      "1526  99742   38  12942   11539.88\n",
      "1527  99757   31  20126    6434.49\n",
      "1528  99813   63  10941   29040.16\n",
      "1529  99946   29  18726   28555.74\n",
      "\n",
      "[1530 rows x 4 columns]\n"
     ]
    }
   ],
   "source": [
    "# 1d) Combine the two dataframes into one combined, new dataframe. Call it 'df'.\n",
    "#  Both data frames should have a column called 'id' use this column to align the datasets (merge on 'id')\n",
    "#  Note: For this part, it doesn't in which you order the merge the dataframes.\n",
    "\n",
    "# YOUR CODE HERE\n",
    "df = pd.merge(df_steps, df_income, on='id')\n",
    "print(df)"
   ]
  },
  {
   "cell_type": "markdown",
   "metadata": {
    "deletable": false,
    "nbgrader": {
     "checksum": "50752e3350a9180c21c8d3792e758d46",
     "grade": false,
     "grade_id": "merge_dat",
     "locked": false,
     "schema_version": 1,
     "solution": true
    }
   },
   "source": [
    "\n"
   ]
  },
  {
   "cell_type": "code",
   "execution_count": 9,
   "metadata": {
    "collapsed": true,
    "deletable": false,
    "editable": false,
    "nbgrader": {
     "checksum": "bc936fd5636926ba13f3d9b56f58ed82",
     "grade": true,
     "grade_id": "test_merge_dat",
     "locked": true,
     "points": 0.5,
     "schema_version": 1,
     "solution": false
    }
   },
   "outputs": [],
   "source": [
    "# Tests for 1d\n",
    "\n",
    "assert isinstance(df, pd.DataFrame)\n",
    "assert set(df.columns) == set(['id', 'income', 'age', 'steps'])"
   ]
  },
  {
   "cell_type": "code",
   "execution_count": 10,
   "metadata": {
    "deletable": false,
    "nbgrader": {
     "checksum": "1f3afe70709abe2ec4fdcdb9a3938864",
     "grade": false,
     "grade_id": "reorder_cols",
     "locked": false,
     "schema_version": 1,
     "solution": true
    }
   },
   "outputs": [
    {
     "name": "stdout",
     "output_type": "stream",
     "text": [
      "         id  age  steps     income\n",
      "0       125   41  17545   14275.46\n",
      "1       170   38  27851   18030.66\n",
      "2       193   49  16507   11246.64\n",
      "3       291   37  24488    5395.10\n",
      "4       315   46  10468    4834.24\n",
      "5       412   44  16895    4044.98\n",
      "6       480   32  15574   10035.88\n",
      "7       689   49  18892   10607.42\n",
      "8       704   67  14127   16616.84\n",
      "9       967   53  24145   22101.16\n",
      "10      992   72   8829   22748.16\n",
      "11     1095   50  15676   11390.07\n",
      "12     1252   55  14602   20003.66\n",
      "13     1335   50   9444    5714.88\n",
      "14     1467   72     -1  115055.17\n",
      "15     1527   59   8086       0.00\n",
      "16     1545   36  18504   12359.43\n",
      "17     1567   68  19049   24973.75\n",
      "18     1666   59  18463   81222.63\n",
      "19     1797   56  17193   21539.84\n",
      "20     1849   73  10113   39628.83\n",
      "21     2000   56  15299   17127.65\n",
      "22     2349   56  23411   40028.32\n",
      "23     2373   38  18557       0.00\n",
      "24     2481   59  13144   29205.16\n",
      "25     2521   55  13061  101819.97\n",
      "26     2588   80   8746   73068.97\n",
      "27     2652   51  14076    1654.15\n",
      "28     2754   51  14893   12017.54\n",
      "29     2762   56  17658   39920.39\n",
      "...     ...  ...    ...        ...\n",
      "1500  98425   36  15637       0.00\n",
      "1501  98507   28  11558       0.00\n",
      "1502  98599   48  14382   37865.88\n",
      "1503  98683   63  15848   34219.38\n",
      "1504  98705   49  14070    9213.15\n",
      "1505  98735   77  21519   30164.52\n",
      "1506  98873   45  18349   19934.70\n",
      "1507  98898   43  13283   34763.41\n",
      "1508  98918   53  12337   39334.74\n",
      "1509  98963   55  11652   49636.05\n",
      "1510  98992   44  19808   13014.01\n",
      "1511  99004   36  16833   43708.27\n",
      "1512  99028   67  15044   24475.49\n",
      "1513  99033   52  18777   57608.14\n",
      "1514  99133   36  19516    4701.69\n",
      "1515  99190   51  14728    8143.81\n",
      "1516  99262   50  12922   11864.33\n",
      "1517  99344   41     -1  323162.93\n",
      "1518  99393   27  20049   15408.34\n",
      "1519  99403   62  15307   34836.67\n",
      "1520  99454   28  18636    4906.83\n",
      "1521  99466   52  15134  113679.26\n",
      "1522  99471   53  19112   16685.41\n",
      "1523  99526   52   9837   81199.92\n",
      "1524  99585   30  19042    7637.69\n",
      "1525  99649   44  18130   15639.94\n",
      "1526  99742   38  12942   11539.88\n",
      "1527  99757   31  20126    6434.49\n",
      "1528  99813   63  10941   29040.16\n",
      "1529  99946   29  18726   28555.74\n",
      "\n",
      "[1530 rows x 4 columns]\n"
     ]
    }
   ],
   "source": [
    "# 1e) Re-Order the Column ID's to be [id, age, steps, income]\n",
    "\n",
    "# YOUR CODE HERE\n",
    "df = df[['id', 'age', 'steps', 'income']]\n",
    "print(df)"
   ]
  },
  {
   "cell_type": "code",
   "execution_count": 11,
   "metadata": {
    "collapsed": true,
    "deletable": false,
    "editable": false,
    "nbgrader": {
     "checksum": "4efcf75ac0377e914a658ca68a320f98",
     "grade": true,
     "grade_id": "test_reorder_cols",
     "locked": true,
     "points": 0.25,
     "schema_version": 1,
     "solution": false
    }
   },
   "outputs": [],
   "source": [
    "# Tests for 1e\n",
    "\n",
    "assert list(df.columns) == ['id', 'age', 'steps', 'income']"
   ]
  },
  {
   "cell_type": "code",
   "execution_count": 12,
   "metadata": {
    "deletable": false,
    "nbgrader": {
     "checksum": "90dd513c05fc40417dc51f45f960c558",
     "grade": false,
     "grade_id": "cell-21fcd98a93bb7fa1",
     "locked": false,
     "schema_version": 1,
     "solution": true
    }
   },
   "outputs": [
    {
     "name": "stdout",
     "output_type": "stream",
     "text": [
      "         id  age  steps     income\n",
      "0       125   41  17545   14275.46\n",
      "1       170   38  27851   18030.66\n",
      "2       193   49  16507   11246.64\n",
      "3       291   37  24488    5395.10\n",
      "4       315   46  10468    4834.24\n",
      "5       412   44  16895    4044.98\n",
      "6       480   32  15574   10035.88\n",
      "7       689   49  18892   10607.42\n",
      "8       704   67  14127   16616.84\n",
      "9       967   53  24145   22101.16\n",
      "10      992   72   8829   22748.16\n",
      "11     1095   50  15676   11390.07\n",
      "12     1252   55  14602   20003.66\n",
      "13     1335   50   9444    5714.88\n",
      "14     1467   72     -1  115055.17\n",
      "15     1527   59   8086       0.00\n",
      "16     1545   36  18504   12359.43\n",
      "17     1567   68  19049   24973.75\n",
      "18     1666   59  18463   81222.63\n",
      "19     1797   56  17193   21539.84\n",
      "20     1849   73  10113   39628.83\n",
      "21     2000   56  15299   17127.65\n",
      "22     2349   56  23411   40028.32\n",
      "23     2373   38  18557       0.00\n",
      "24     2481   59  13144   29205.16\n",
      "25     2521   55  13061  101819.97\n",
      "26     2588   80   8746   73068.97\n",
      "27     2652   51  14076    1654.15\n",
      "28     2754   51  14893   12017.54\n",
      "29     2762   56  17658   39920.39\n",
      "...     ...  ...    ...        ...\n",
      "1500  98425   36  15637       0.00\n",
      "1501  98507   28  11558       0.00\n",
      "1502  98599   48  14382   37865.88\n",
      "1503  98683   63  15848   34219.38\n",
      "1504  98705   49  14070    9213.15\n",
      "1505  98735   77  21519   30164.52\n",
      "1506  98873   45  18349   19934.70\n",
      "1507  98898   43  13283   34763.41\n",
      "1508  98918   53  12337   39334.74\n",
      "1509  98963   55  11652   49636.05\n",
      "1510  98992   44  19808   13014.01\n",
      "1511  99004   36  16833   43708.27\n",
      "1512  99028   67  15044   24475.49\n",
      "1513  99033   52  18777   57608.14\n",
      "1514  99133   36  19516    4701.69\n",
      "1515  99190   51  14728    8143.81\n",
      "1516  99262   50  12922   11864.33\n",
      "1517  99344   41     -1  323162.93\n",
      "1518  99393   27  20049   15408.34\n",
      "1519  99403   62  15307   34836.67\n",
      "1520  99454   28  18636    4906.83\n",
      "1521  99466   52  15134  113679.26\n",
      "1522  99471   53  19112   16685.41\n",
      "1523  99526   52   9837   81199.92\n",
      "1524  99585   30  19042    7637.69\n",
      "1525  99649   44  18130   15639.94\n",
      "1526  99742   38  12942   11539.88\n",
      "1527  99757   31  20126    6434.49\n",
      "1528  99813   63  10941   29040.16\n",
      "1529  99946   29  18726   28555.74\n",
      "\n",
      "[1530 rows x 4 columns]\n",
      "         id  age  steps     income\n",
      "0       125   41  17545   14275.46\n",
      "1       170   38  27851   18030.66\n",
      "2       193   49  16507   11246.64\n",
      "3       291   37  24488    5395.10\n",
      "4       315   46  10468    4834.24\n",
      "5       412   44  16895    4044.98\n",
      "6       480   32  15574   10035.88\n",
      "7       689   49  18892   10607.42\n",
      "8       704   67  14127   16616.84\n",
      "9       967   53  24145   22101.16\n",
      "10      992   72   8829   22748.16\n",
      "11     1095   50  15676   11390.07\n",
      "12     1252   55  14602   20003.66\n",
      "13     1335   50   9444    5714.88\n",
      "14     1467   72     -1  115055.17\n",
      "15     1527   59   8086       0.00\n",
      "16     1545   36  18504   12359.43\n",
      "17     1567   68  19049   24973.75\n",
      "18     1666   59  18463   81222.63\n",
      "19     1797   56  17193   21539.84\n",
      "20     1849   73  10113   39628.83\n",
      "21     2000   56  15299   17127.65\n",
      "22     2349   56  23411   40028.32\n",
      "23     2373   38  18557       0.00\n",
      "24     2481   59  13144   29205.16\n",
      "25     2521   55  13061  101819.97\n",
      "26     2588   80   8746   73068.97\n",
      "27     2652   51  14076    1654.15\n",
      "28     2754   51  14893   12017.54\n",
      "29     2762   56  17658   39920.39\n",
      "...     ...  ...    ...        ...\n",
      "1500  98425   36  15637       0.00\n",
      "1501  98507   28  11558       0.00\n",
      "1502  98599   48  14382   37865.88\n",
      "1503  98683   63  15848   34219.38\n",
      "1504  98705   49  14070    9213.15\n",
      "1505  98735   77  21519   30164.52\n",
      "1506  98873   45  18349   19934.70\n",
      "1507  98898   43  13283   34763.41\n",
      "1508  98918   53  12337   39334.74\n",
      "1509  98963   55  11652   49636.05\n",
      "1510  98992   44  19808   13014.01\n",
      "1511  99004   36  16833   43708.27\n",
      "1512  99028   67  15044   24475.49\n",
      "1513  99033   52  18777   57608.14\n",
      "1514  99133   36  19516    4701.69\n",
      "1515  99190   51  14728    8143.81\n",
      "1516  99262   50  12922   11864.33\n",
      "1517  99344   41     -1  323162.93\n",
      "1518  99393   27  20049   15408.34\n",
      "1519  99403   62  15307   34836.67\n",
      "1520  99454   28  18636    4906.83\n",
      "1521  99466   52  15134  113679.26\n",
      "1522  99471   53  19112   16685.41\n",
      "1523  99526   52   9837   81199.92\n",
      "1524  99585   30  19042    7637.69\n",
      "1525  99649   44  18130   15639.94\n",
      "1526  99742   38  12942   11539.88\n",
      "1527  99757   31  20126    6434.49\n",
      "1528  99813   63  10941   29040.16\n",
      "1529  99946   29  18726   28555.74\n",
      "\n",
      "[1530 rows x 4 columns]\n"
     ]
    }
   ],
   "source": [
    "# 1f) Make two different copies of 'df'. \n",
    "# Call the first one 'df2', and the second one 'df3'.\n",
    "# Note: Simply writing 'df2 = df' and 'df3 = df' will NOT work!\n",
    "#   A quick google search reveals how to properly copy dataframes.\n",
    "\n",
    "# YOUR CODE HERE\n",
    "df2 = df.copy()\n",
    "df3 = df.copy()\n",
    "print(df2)\n",
    "print(df3)"
   ]
  },
  {
   "cell_type": "code",
   "execution_count": 13,
   "metadata": {
    "collapsed": true,
    "deletable": false,
    "editable": false,
    "nbgrader": {
     "checksum": "4464ed645ea34e2418beaaac2a4c21aa",
     "grade": true,
     "grade_id": "import",
     "locked": true,
     "points": 0.5,
     "schema_version": 1,
     "solution": false
    }
   },
   "outputs": [],
   "source": [
    "# Tests for 1f\n",
    "\n",
    "assert(df2 is not df)\n",
    "assert(df3 is not df)"
   ]
  },
  {
   "cell_type": "markdown",
   "metadata": {
    "deletable": false,
    "editable": false,
    "nbgrader": {
     "checksum": "3a77ad34f99df0613abc94662c4692af",
     "grade": false,
     "grade_id": "part2",
     "locked": true,
     "schema_version": 1,
     "solution": false
    }
   },
   "source": [
    "## Part 2 - Data Cleaning\n",
    "\n",
    "Before analysis, data must be cleaned of missing or unusable data. \n",
    "\n",
    "Now that the datasets are joined into a single dataframe, the next steps are to remove or replace any bad data before moving onto any analyses. "
   ]
  },
  {
   "cell_type": "code",
   "execution_count": 14,
   "metadata": {
    "deletable": false,
    "nbgrader": {
     "checksum": "496e20908b156bc4d51251fb9327508e",
     "grade": false,
     "grade_id": "check_n_nan",
     "locked": false,
     "schema_version": 1,
     "solution": true
    }
   },
   "outputs": [
    {
     "name": "stdout",
     "output_type": "stream",
     "text": [
      "17\n"
     ]
    }
   ],
   "source": [
    "# 2a) First check how many missing data (NaNs) there are in the income data.\n",
    "#  Save this number into a variable called 'n_nan'\n",
    "\n",
    "# YOUR CODE HERE\n",
    "n_nan = df.isnull().sum()['income']\n",
    "print(n_nan)\n"
   ]
  },
  {
   "cell_type": "code",
   "execution_count": 15,
   "metadata": {
    "collapsed": true,
    "deletable": false,
    "editable": false,
    "nbgrader": {
     "checksum": "999527e58f2d367f39dde83c5272ad9c",
     "grade": true,
     "grade_id": "test_check_n_nan",
     "locked": true,
     "points": 0.25,
     "schema_version": 1,
     "solution": false
    }
   },
   "outputs": [],
   "source": [
    "# Tests for 2a\n",
    "\n",
    "assert(n_nan)\n"
   ]
  },
  {
   "cell_type": "code",
   "execution_count": 16,
   "metadata": {
    "deletable": false,
    "nbgrader": {
     "checksum": "a6b3912403049cfe61ee0cb5850f5ff3",
     "grade": false,
     "grade_id": "rm_nans",
     "locked": false,
     "schema_version": 1,
     "solution": true
    }
   },
   "outputs": [
    {
     "name": "stdout",
     "output_type": "stream",
     "text": [
      "         id  age  steps     income\n",
      "0       125   41  17545   14275.46\n",
      "1       170   38  27851   18030.66\n",
      "2       193   49  16507   11246.64\n",
      "3       291   37  24488    5395.10\n",
      "4       315   46  10468    4834.24\n",
      "5       412   44  16895    4044.98\n",
      "6       480   32  15574   10035.88\n",
      "7       689   49  18892   10607.42\n",
      "8       704   67  14127   16616.84\n",
      "9       967   53  24145   22101.16\n",
      "10      992   72   8829   22748.16\n",
      "11     1095   50  15676   11390.07\n",
      "12     1252   55  14602   20003.66\n",
      "13     1335   50   9444    5714.88\n",
      "14     1467   72     -1  115055.17\n",
      "15     1527   59   8086       0.00\n",
      "16     1545   36  18504   12359.43\n",
      "17     1567   68  19049   24973.75\n",
      "18     1666   59  18463   81222.63\n",
      "19     1797   56  17193   21539.84\n",
      "20     1849   73  10113   39628.83\n",
      "21     2000   56  15299   17127.65\n",
      "22     2349   56  23411   40028.32\n",
      "23     2373   38  18557       0.00\n",
      "24     2481   59  13144   29205.16\n",
      "25     2521   55  13061  101819.97\n",
      "26     2588   80   8746   73068.97\n",
      "27     2652   51  14076    1654.15\n",
      "28     2754   51  14893   12017.54\n",
      "29     2762   56  17658   39920.39\n",
      "...     ...  ...    ...        ...\n",
      "1500  98425   36  15637       0.00\n",
      "1501  98507   28  11558       0.00\n",
      "1502  98599   48  14382   37865.88\n",
      "1503  98683   63  15848   34219.38\n",
      "1504  98705   49  14070    9213.15\n",
      "1505  98735   77  21519   30164.52\n",
      "1506  98873   45  18349   19934.70\n",
      "1507  98898   43  13283   34763.41\n",
      "1508  98918   53  12337   39334.74\n",
      "1509  98963   55  11652   49636.05\n",
      "1510  98992   44  19808   13014.01\n",
      "1511  99004   36  16833   43708.27\n",
      "1512  99028   67  15044   24475.49\n",
      "1513  99033   52  18777   57608.14\n",
      "1514  99133   36  19516    4701.69\n",
      "1515  99190   51  14728    8143.81\n",
      "1516  99262   50  12922   11864.33\n",
      "1517  99344   41     -1  323162.93\n",
      "1518  99393   27  20049   15408.34\n",
      "1519  99403   62  15307   34836.67\n",
      "1520  99454   28  18636    4906.83\n",
      "1521  99466   52  15134  113679.26\n",
      "1522  99471   53  19112   16685.41\n",
      "1523  99526   52   9837   81199.92\n",
      "1524  99585   30  19042    7637.69\n",
      "1525  99649   44  18130   15639.94\n",
      "1526  99742   38  12942   11539.88\n",
      "1527  99757   31  20126    6434.49\n",
      "1528  99813   63  10941   29040.16\n",
      "1529  99946   29  18726   28555.74\n",
      "\n",
      "[1513 rows x 4 columns]\n"
     ]
    }
   ],
   "source": [
    "# 2b) Remove all rows from df that have missing data. \n",
    "#  In other words, remove all rows with NaN values.\n",
    "\n",
    "# YOUR CODE HERE\n",
    "df = df.dropna()\n",
    "print(df)"
   ]
  },
  {
   "cell_type": "code",
   "execution_count": 17,
   "metadata": {
    "collapsed": true,
    "deletable": false,
    "editable": false,
    "nbgrader": {
     "checksum": "de3add846e9c7a25c2f40fbc1670856e",
     "grade": true,
     "grade_id": "test_rm_nans",
     "locked": true,
     "points": 0.5,
     "schema_version": 1,
     "solution": false
    }
   },
   "outputs": [],
   "source": [
    "# Tests for 2b\n",
    "\n",
    "assert sum(np.isnan(df['income'])) == 0"
   ]
  },
  {
   "cell_type": "code",
   "execution_count": 18,
   "metadata": {
    "deletable": false,
    "nbgrader": {
     "checksum": "b1a2d47bb4cc7e0c218dd351c7963f1e",
     "grade": false,
     "grade_id": "cell-07562783e1097577",
     "locked": false,
     "schema_version": 1,
     "solution": true
    }
   },
   "outputs": [
    {
     "name": "stdout",
     "output_type": "stream",
     "text": [
      "27564.214243225393\n"
     ]
    }
   ],
   "source": [
    "# 2c) Create a variable called `mean_income` which holds the average income in df\n",
    "\n",
    "# YOUR CODE HERE\n",
    "mean_income = df[\"income\"].mean()\n",
    "print(mean_income)"
   ]
  },
  {
   "cell_type": "code",
   "execution_count": 19,
   "metadata": {
    "collapsed": true,
    "deletable": false,
    "editable": false,
    "nbgrader": {
     "checksum": "fd95829aef774f55402b630c17381cce",
     "grade": true,
     "grade_id": "cell-0087330817bb378a",
     "locked": true,
     "points": 0.25,
     "schema_version": 1,
     "solution": false
    }
   },
   "outputs": [],
   "source": [
    "# Tests for 2c\n",
    "\n",
    "assert mean_income\n"
   ]
  },
  {
   "cell_type": "code",
   "execution_count": 20,
   "metadata": {
    "deletable": false,
    "nbgrader": {
     "checksum": "2fd3412cdfef2f3398f5c3232a0e9a3c",
     "grade": false,
     "grade_id": "cell-ae9e4583c7334cef",
     "locked": false,
     "schema_version": 1,
     "solution": true
    }
   },
   "outputs": [
    {
     "name": "stdout",
     "output_type": "stream",
     "text": [
      "         id  age  steps     income\n",
      "0       125   41  17545   14275.46\n",
      "1       170   38  27851   18030.66\n",
      "2       193   49  16507   11246.64\n",
      "3       291   37  24488    5395.10\n",
      "4       315   46  10468    4834.24\n",
      "5       412   44  16895    4044.98\n",
      "6       480   32  15574   10035.88\n",
      "7       689   49  18892   10607.42\n",
      "8       704   67  14127   16616.84\n",
      "9       967   53  24145   22101.16\n",
      "10      992   72   8829   22748.16\n",
      "11     1095   50  15676   11390.07\n",
      "12     1252   55  14602   20003.66\n",
      "13     1335   50   9444    5714.88\n",
      "14     1467   72     -1  115055.17\n",
      "15     1527   59   8086       0.00\n",
      "16     1545   36  18504   12359.43\n",
      "17     1567   68  19049   24973.75\n",
      "18     1666   59  18463   81222.63\n",
      "19     1797   56  17193   21539.84\n",
      "20     1849   73  10113   39628.83\n",
      "21     2000   56  15299   17127.65\n",
      "22     2349   56  23411   40028.32\n",
      "23     2373   38  18557       0.00\n",
      "24     2481   59  13144   29205.16\n",
      "25     2521   55  13061  101819.97\n",
      "26     2588   80   8746   73068.97\n",
      "27     2652   51  14076    1654.15\n",
      "28     2754   51  14893   12017.54\n",
      "29     2762   56  17658   39920.39\n",
      "...     ...  ...    ...        ...\n",
      "1500  98425   36  15637       0.00\n",
      "1501  98507   28  11558       0.00\n",
      "1502  98599   48  14382   37865.88\n",
      "1503  98683   63  15848   34219.38\n",
      "1504  98705   49  14070    9213.15\n",
      "1505  98735   77  21519   30164.52\n",
      "1506  98873   45  18349   19934.70\n",
      "1507  98898   43  13283   34763.41\n",
      "1508  98918   53  12337   39334.74\n",
      "1509  98963   55  11652   49636.05\n",
      "1510  98992   44  19808   13014.01\n",
      "1511  99004   36  16833   43708.27\n",
      "1512  99028   67  15044   24475.49\n",
      "1513  99033   52  18777   57608.14\n",
      "1514  99133   36  19516    4701.69\n",
      "1515  99190   51  14728    8143.81\n",
      "1516  99262   50  12922   11864.33\n",
      "1517  99344   41     -1  323162.93\n",
      "1518  99393   27  20049   15408.34\n",
      "1519  99403   62  15307   34836.67\n",
      "1520  99454   28  18636    4906.83\n",
      "1521  99466   52  15134  113679.26\n",
      "1522  99471   53  19112   16685.41\n",
      "1523  99526   52   9837   81199.92\n",
      "1524  99585   30  19042    7637.69\n",
      "1525  99649   44  18130   15639.94\n",
      "1526  99742   38  12942   11539.88\n",
      "1527  99757   31  20126    6434.49\n",
      "1528  99813   63  10941   29040.16\n",
      "1529  99946   29  18726   28555.74\n",
      "\n",
      "[1530 rows x 4 columns]\n"
     ]
    }
   ],
   "source": [
    "# 2d) In df2, replace all missing values with `mean_income`\n",
    "\n",
    "# YOUR CODE HERE\n",
    "df2 = df2.fillna(mean_income)\n",
    "print(df2)"
   ]
  },
  {
   "cell_type": "code",
   "execution_count": 21,
   "metadata": {
    "collapsed": true,
    "deletable": false,
    "editable": false,
    "nbgrader": {
     "checksum": "87dc61c584bcf9a4aad7639d2a2f9858",
     "grade": true,
     "grade_id": "cell-e6b939ab097a08ac",
     "locked": true,
     "points": 0.5,
     "schema_version": 1,
     "solution": false
    }
   },
   "outputs": [],
   "source": [
    "# Tests for 2d\n",
    "\n",
    "assert not df2['income'].hasnans\n"
   ]
  },
  {
   "cell_type": "markdown",
   "metadata": {
    "deletable": false,
    "editable": false,
    "nbgrader": {
     "checksum": "c5eca8313f7ab8cde305141f938acb03",
     "grade": false,
     "grade_id": "cell-d5a2ec0f6c9489c6",
     "locked": true,
     "schema_version": 1,
     "solution": false
    }
   },
   "source": [
    "### W1 - Missing Data\n",
    "\n",
    "You just used two different approaches for dealing with missing data: dropping the rows and replacing with the mean. \n",
    "\n",
    "For each approach, briefly describe below when you think it would be appropriate to use this approach. \n",
    "\n",
    "When is best to use one approach over the other?"
   ]
  },
  {
   "cell_type": "markdown",
   "metadata": {
    "collapsed": true,
    "deletable": false,
    "nbgrader": {
     "checksum": "a3d5328a171cf1d7bdaf14da9e5c44ed",
     "grade": true,
     "grade_id": "cell-50295605e63eb00b",
     "locked": false,
     "points": 0,
     "schema_version": 1,
     "solution": true
    }
   },
   "source": [
    "I believe that replacing the missing data with the mean incoperates the outliers of the other variable when taking it inot account. Removing the data all together ignores any outliers or data present, and when considering a representation of data as a whole, the best fit line attempts to correlate the data. "
   ]
  },
  {
   "cell_type": "markdown",
   "metadata": {
    "deletable": false,
    "editable": false,
    "nbgrader": {
     "checksum": "99249fc32f73389090300fc93eee79a2",
     "grade": false,
     "grade_id": "cell-5d01b1034d49203e",
     "locked": true,
     "schema_version": 1,
     "solution": false
    }
   },
   "source": [
    "## Part 3: Data Visualization\n",
    "\n",
    "Here we will start exploring our data visually, using some plots. \n",
    "\n",
    "In particular, we will plot the distributions of each of our variables, in such a way as to let us get a sense of the data, and look for any problems. \n",
    "\n",
    "Pandas comes with some plotting capabilities. We will also be making histograms, which can be done with matplotlib.\n",
    "\n",
    "Here's an example of making histograms: http://matplotlib.org/1.2.1/examples/pylab_examples/histogram_demo.html\n",
    "\n",
    "This example has more than you need: \n",
    "- Titles, axis labels, etc are optional (but recommended)\n",
    "- You do no need to add a 'best fit' line.\n",
    "\n",
    "Notes:\n",
    "\n",
    "- Everywhere that we ask you to create a plot, make sure to leave the 'plt.gcf()' line at the end of the cell. \n",
    "    - This is used to get a figure handle in order to programmatically evaluate your plots.\n",
    "- For all your histograms, use 25 bins"
   ]
  },
  {
   "cell_type": "code",
   "execution_count": 22,
   "metadata": {
    "deletable": false,
    "nbgrader": {
     "checksum": "61da07cc1902a924d76b1ec94ffa7b43",
     "grade": false,
     "grade_id": "hist_age",
     "locked": false,
     "schema_version": 1,
     "solution": true
    }
   },
   "outputs": [
    {
     "data": {
      "image/png": "[encoded data removed]",
      "text/plain": [
       "<matplotlib.figure.Figure at 0x125aaad1940>"
      ]
     },
     "metadata": {},
     "output_type": "display_data"
    }
   ],
   "source": [
    "# 3a) Plot a histogram of the age variable\n",
    "\n",
    "# YOUR CODE HERE\n",
    "df['age'].hist(bins=25)\n",
    "plt.title(\"Age\")\n",
    "plt.xlabel(\"Years Old\")\n",
    "plt.ylabel(\"Frequency of People\")\n",
    "f1 = plt.gcf()"
   ]
  },
  {
   "cell_type": "code",
   "execution_count": 23,
   "metadata": {
    "collapsed": true,
    "deletable": false,
    "editable": false,
    "nbgrader": {
     "checksum": "86fd8234d03da288d7e8032d50ac59b1",
     "grade": true,
     "grade_id": "test_hist_age",
     "locked": true,
     "points": 0.25,
     "schema_version": 1,
     "solution": false
    }
   },
   "outputs": [],
   "source": [
    "# Tests for 3a\n",
    "\n",
    "assert f1.gca().has_data()"
   ]
  },
  {
   "cell_type": "code",
   "execution_count": 24,
   "metadata": {
    "deletable": false,
    "nbgrader": {
     "checksum": "c78710dba112aa8e3864bb75c104d9f0",
     "grade": false,
     "grade_id": "hist_steps",
     "locked": false,
     "schema_version": 1,
     "solution": true
    }
   },
   "outputs": [
    {
     "data": {
      "image/png": "[encoded data removed]",
      "text/plain": [
       "<matplotlib.figure.Figure at 0x125aaad3438>"
      ]
     },
     "metadata": {},
     "output_type": "display_data"
    }
   ],
   "source": [
    "# 3b) Plot a histogram of the steps variable\n",
    "\n",
    "# YOUR CODE HERE\n",
    "df['steps'].hist(bins=25)\n",
    "plt.title(\"steps\")\n",
    "plt.xlabel(\"Steps Taken\")\n",
    "plt.ylabel(\"Frequency of People\")\n",
    "\n",
    "f2 = plt.gcf()"
   ]
  },
  {
   "cell_type": "code",
   "execution_count": 25,
   "metadata": {
    "collapsed": true,
    "deletable": false,
    "editable": false,
    "nbgrader": {
     "checksum": "9a31a432cbac65bb2c536e1c9561843d",
     "grade": true,
     "grade_id": "test_hist_steps",
     "locked": true,
     "points": 0.25,
     "schema_version": 1,
     "solution": false
    }
   },
   "outputs": [],
   "source": [
    "# Tests for 3b\n",
    "\n",
    "assert f2.gca().has_data()"
   ]
  },
  {
   "cell_type": "code",
   "execution_count": 26,
   "metadata": {
    "deletable": false,
    "nbgrader": {
     "checksum": "b9cf798737d17f4a8f5d8c5bf040a747",
     "grade": false,
     "grade_id": "cell-3b187fca71faa424",
     "locked": false,
     "schema_version": 1,
     "solution": true
    }
   },
   "outputs": [
    {
     "data": {
      "image/png": "[encoded data removed]",
      "text/plain": [
       "<matplotlib.figure.Figure at 0x125aad2be48>"
      ]
     },
     "metadata": {},
     "output_type": "display_data"
    }
   ],
   "source": [
    "# 3c) Plot a histogram of the income variable\n",
    "\n",
    "# YOUR CODE HERE\n",
    "df['income'].hist(bins=25)\n",
    "plt.title(\"Income\")\n",
    "plt.xlabel(\"Income Made\")\n",
    "plt.ylabel(\"Frequency of People\")\n",
    "\n",
    "f3 = plt.gcf()"
   ]
  },
  {
   "cell_type": "code",
   "execution_count": 27,
   "metadata": {
    "collapsed": true,
    "deletable": false,
    "editable": false,
    "nbgrader": {
     "checksum": "7573f5f53750aff96be9405160002fcc",
     "grade": true,
     "grade_id": "cell-f9b252fbb7a92d40",
     "locked": true,
     "points": 0.25,
     "schema_version": 1,
     "solution": false
    }
   },
   "outputs": [],
   "source": [
    "# Tests for 3c\n",
    "\n",
    "assert f2.gca().has_data()"
   ]
  },
  {
   "cell_type": "code",
   "execution_count": 28,
   "metadata": {
    "deletable": false,
    "nbgrader": {
     "checksum": "ed82ea015620a93ba01e490d08caaf58",
     "grade": false,
     "grade_id": "cell-95bdb279f6c0f560",
     "locked": false,
     "schema_version": 1,
     "solution": true
    }
   },
   "outputs": [
    {
     "data": {
      "image/png": "[encoded data removed]",
      "text/plain": [
       "<matplotlib.figure.Figure at 0x125ab207d68>"
      ]
     },
     "metadata": {},
     "output_type": "display_data"
    }
   ],
   "source": [
    "# 3d) Plot the data using pandas scatter_matrix, saving it to output variable name 'fd'.\n",
    "#  Only plot the 'age', 'steps', and 'income' variables.\n",
    "\n",
    "# YOUR CODE HERE\n",
    "from pandas.tools.plotting import scatter_matrix\n",
    "fd = pd.plotting.scatter_matrix(df[['age', 'steps', 'income']])"
   ]
  },
  {
   "cell_type": "code",
   "execution_count": 29,
   "metadata": {
    "collapsed": true,
    "deletable": false,
    "editable": false,
    "nbgrader": {
     "checksum": "3ec43e039b8e93d82996c0eae664f1e5",
     "grade": true,
     "grade_id": "cell-c5520747d92f0e26",
     "locked": true,
     "points": 0.25,
     "schema_version": 1,
     "solution": false
    }
   },
   "outputs": [],
   "source": [
    "# Tests for 3d\n",
    "\n",
    "assert len(fd[0]) == 3\n",
    "assert np.all(ax.has_data() for ax in fd[0])"
   ]
  },
  {
   "cell_type": "markdown",
   "metadata": {
    "deletable": false,
    "editable": false,
    "nbgrader": {
     "checksum": "b796dc11b89e39247d769fc98d789b03",
     "grade": false,
     "grade_id": "notice_2",
     "locked": true,
     "schema_version": 1,
     "solution": false
    }
   },
   "source": [
    "### W2 - What do you notice about data now that you've visualized it?\n",
    "\n",
    "For each of 'steps', 'income' and 'age', write a quick comment on each of anything that you notice from the above visualizations, that may need to be addressed before moving onto data analysis. \n",
    "\n",
    "In particular:\n",
    "- Are there outliers or bad values we need to fix? \n",
    "- Might we want to transform any of the distributions?"
   ]
  },
  {
   "cell_type": "markdown",
   "metadata": {
    "deletable": false,
    "nbgrader": {
     "checksum": "16f2ab17d6df8fbde51523dc36b498a1",
     "grade": true,
     "grade_id": "notice_steps",
     "locked": false,
     "points": 0,
     "schema_version": 1,
     "solution": true
    }
   },
   "source": [
    "For steps and age, there tended to be a fair amount of outliers that may not be represented when taking into account. Additionally, the income data formatting was slightly awkwardly place, needing to be moved to the horizontal plane and would be easier to read."
   ]
  },
  {
   "cell_type": "markdown",
   "metadata": {},
   "source": [
    "## Part 4: Data Pre-Processing\n",
    "\n",
    "In the above sections, we did some basic data cleaning, and visualization. \n",
    "\n",
    "In practice, these two components of an analysis pipeline are often combined into an iterative approach, going back and forth between looking at the data, checking for issues, and then cleaning the data. \n",
    "\n",
    "In this next section we will continue with an iterative procedure of data cleaning and visualization, addressing some issues that we can start to see when visualizing the data."
   ]
  },
  {
   "cell_type": "code",
   "execution_count": 30,
   "metadata": {
    "deletable": false,
    "nbgrader": {
     "checksum": "27c627f59c977e767a761e12b87e64a8",
     "grade": false,
     "grade_id": "check_n_neg",
     "locked": false,
     "schema_version": 1,
     "solution": true
    }
   },
   "outputs": [
    {
     "name": "stdout",
     "output_type": "stream",
     "text": [
      "41\n"
     ]
    }
   ],
   "source": [
    "# 4a) Dealing with an impossible value in 'steps'. \n",
    "#  Check how many -1 values there are in steps. \n",
    "#  Save the number into a variable called 'n_neg'\n",
    "\n",
    "# YOUR CODE HERE\n",
    "n_neg = len(df.loc[df['steps'] == -1])\n",
    "print(n_neg)"
   ]
  },
  {
   "cell_type": "code",
   "execution_count": 31,
   "metadata": {
    "collapsed": true,
    "deletable": false,
    "editable": false,
    "nbgrader": {
     "checksum": "a4a8ac742be9a73444a8f11c2f77431e",
     "grade": true,
     "grade_id": "test_check_n_neg",
     "locked": true,
     "points": 0.25,
     "schema_version": 1,
     "solution": false
    }
   },
   "outputs": [],
   "source": [
    "# Tests for 4a\n",
    "\n",
    "assert(n_neg)\n"
   ]
  },
  {
   "cell_type": "code",
   "execution_count": 32,
   "metadata": {
    "deletable": false,
    "nbgrader": {
     "checksum": "3ebe1199304210bff7f7bd20d0674593",
     "grade": false,
     "grade_id": "rm_neg",
     "locked": false,
     "schema_version": 1,
     "solution": true
    }
   },
   "outputs": [
    {
     "name": "stdout",
     "output_type": "stream",
     "text": [
      "         id  age  steps     income\n",
      "0       125   41  17545   14275.46\n",
      "1       170   38  27851   18030.66\n",
      "2       193   49  16507   11246.64\n",
      "3       291   37  24488    5395.10\n",
      "4       315   46  10468    4834.24\n",
      "5       412   44  16895    4044.98\n",
      "6       480   32  15574   10035.88\n",
      "7       689   49  18892   10607.42\n",
      "8       704   67  14127   16616.84\n",
      "9       967   53  24145   22101.16\n",
      "10      992   72   8829   22748.16\n",
      "11     1095   50  15676   11390.07\n",
      "12     1252   55  14602   20003.66\n",
      "13     1335   50   9444    5714.88\n",
      "15     1527   59   8086       0.00\n",
      "16     1545   36  18504   12359.43\n",
      "17     1567   68  19049   24973.75\n",
      "18     1666   59  18463   81222.63\n",
      "19     1797   56  17193   21539.84\n",
      "20     1849   73  10113   39628.83\n",
      "21     2000   56  15299   17127.65\n",
      "22     2349   56  23411   40028.32\n",
      "23     2373   38  18557       0.00\n",
      "24     2481   59  13144   29205.16\n",
      "25     2521   55  13061  101819.97\n",
      "26     2588   80   8746   73068.97\n",
      "27     2652   51  14076    1654.15\n",
      "28     2754   51  14893   12017.54\n",
      "29     2762   56  17658   39920.39\n",
      "30     2785   48  19551   23527.90\n",
      "...     ...  ...    ...        ...\n",
      "1499  98422   30  21031    3543.75\n",
      "1500  98425   36  15637       0.00\n",
      "1501  98507   28  11558       0.00\n",
      "1502  98599   48  14382   37865.88\n",
      "1503  98683   63  15848   34219.38\n",
      "1504  98705   49  14070    9213.15\n",
      "1505  98735   77  21519   30164.52\n",
      "1506  98873   45  18349   19934.70\n",
      "1507  98898   43  13283   34763.41\n",
      "1508  98918   53  12337   39334.74\n",
      "1509  98963   55  11652   49636.05\n",
      "1510  98992   44  19808   13014.01\n",
      "1511  99004   36  16833   43708.27\n",
      "1512  99028   67  15044   24475.49\n",
      "1513  99033   52  18777   57608.14\n",
      "1514  99133   36  19516    4701.69\n",
      "1515  99190   51  14728    8143.81\n",
      "1516  99262   50  12922   11864.33\n",
      "1518  99393   27  20049   15408.34\n",
      "1519  99403   62  15307   34836.67\n",
      "1520  99454   28  18636    4906.83\n",
      "1521  99466   52  15134  113679.26\n",
      "1522  99471   53  19112   16685.41\n",
      "1523  99526   52   9837   81199.92\n",
      "1524  99585   30  19042    7637.69\n",
      "1525  99649   44  18130   15639.94\n",
      "1526  99742   38  12942   11539.88\n",
      "1527  99757   31  20126    6434.49\n",
      "1528  99813   63  10941   29040.16\n",
      "1529  99946   29  18726   28555.74\n",
      "\n",
      "[1472 rows x 4 columns]\n"
     ]
    }
   ],
   "source": [
    "# 4b) Remove all rows where steps is equal to -1\n",
    "\n",
    "# YOUR CODE HERE\n",
    "df = df[df.steps != -1]\n",
    "print(df)"
   ]
  },
  {
   "cell_type": "code",
   "execution_count": 33,
   "metadata": {
    "collapsed": true,
    "deletable": false,
    "editable": false,
    "nbgrader": {
     "checksum": "5a324aaa824ce52bb6568bd4e791680a",
     "grade": true,
     "grade_id": "test_rm_neg",
     "locked": true,
     "points": 0.25,
     "schema_version": 1,
     "solution": false
    }
   },
   "outputs": [],
   "source": [
    "# Tests for 4b\n",
    "\n",
    "assert sum(df['steps'] == -1) == 0"
   ]
  },
  {
   "cell_type": "markdown",
   "metadata": {
    "deletable": false,
    "editable": false,
    "nbgrader": {
     "checksum": "fda646cdf78099fa007173fd5a3bd529",
     "grade": false,
     "grade_id": "cell-bba8828415fce1e0",
     "locked": true,
     "schema_version": 1,
     "solution": false
    }
   },
   "source": [
    "### W3 - Transforming Distributions\n",
    "\n",
    "Once thing you might have noticed is that the income is not normally distributed. \n",
    "\n",
    "In the next steps, we will address this by log transforming the income data. First though, we will have to deal with any income values that are 0. Note that these values are not impossible values, but may, for example, reflect people who are unemployed. \n",
    "\n",
    "Why are are we log-transforming the data, and how does that help us? Why do we have to do something special with 0's?\n",
    "\n",
    "Hint: calculate log10 of zero, and see what the answer is. "
   ]
  },
  {
   "cell_type": "markdown",
   "metadata": {
    "deletable": false,
    "nbgrader": {
     "checksum": "2b6169cc5a06011d907a7e447026134b",
     "grade": true,
     "grade_id": "cell-132cc0868f89e090",
     "locked": false,
     "points": 0,
     "schema_version": 1,
     "solution": true
    }
   },
   "source": [
    "Log transforming the data makes the overall distribution less skewed and more uniformed to be better understood."
   ]
  },
  {
   "cell_type": "code",
   "execution_count": 34,
   "metadata": {
    "deletable": false,
    "nbgrader": {
     "checksum": "16eabb2a0fde0fa013154a366d0481ed",
     "grade": false,
     "grade_id": "recoded_zero",
     "locked": false,
     "schema_version": 1,
     "solution": true
    }
   },
   "outputs": [
    {
     "name": "stdout",
     "output_type": "stream",
     "text": [
      "         id  age  steps     income\n",
      "0       125   41  17545   14275.46\n",
      "1       170   38  27851   18030.66\n",
      "2       193   49  16507   11246.64\n",
      "3       291   37  24488    5395.10\n",
      "4       315   46  10468    4834.24\n",
      "5       412   44  16895    4044.98\n",
      "6       480   32  15574   10035.88\n",
      "7       689   49  18892   10607.42\n",
      "8       704   67  14127   16616.84\n",
      "9       967   53  24145   22101.16\n",
      "10      992   72   8829   22748.16\n",
      "11     1095   50  15676   11390.07\n",
      "12     1252   55  14602   20003.66\n",
      "13     1335   50   9444    5714.88\n",
      "15     1527   59   8086       1.00\n",
      "16     1545   36  18504   12359.43\n",
      "17     1567   68  19049   24973.75\n",
      "18     1666   59  18463   81222.63\n",
      "19     1797   56  17193   21539.84\n",
      "20     1849   73  10113   39628.83\n",
      "21     2000   56  15299   17127.65\n",
      "22     2349   56  23411   40028.32\n",
      "23     2373   38  18557       1.00\n",
      "24     2481   59  13144   29205.16\n",
      "25     2521   55  13061  101819.97\n",
      "26     2588   80   8746   73068.97\n",
      "27     2652   51  14076    1654.15\n",
      "28     2754   51  14893   12017.54\n",
      "29     2762   56  17658   39920.39\n",
      "30     2785   48  19551   23527.90\n",
      "...     ...  ...    ...        ...\n",
      "1499  98422   30  21031    3543.75\n",
      "1500  98425   36  15637       1.00\n",
      "1501  98507   28  11558       1.00\n",
      "1502  98599   48  14382   37865.88\n",
      "1503  98683   63  15848   34219.38\n",
      "1504  98705   49  14070    9213.15\n",
      "1505  98735   77  21519   30164.52\n",
      "1506  98873   45  18349   19934.70\n",
      "1507  98898   43  13283   34763.41\n",
      "1508  98918   53  12337   39334.74\n",
      "1509  98963   55  11652   49636.05\n",
      "1510  98992   44  19808   13014.01\n",
      "1511  99004   36  16833   43708.27\n",
      "1512  99028   67  15044   24475.49\n",
      "1513  99033   52  18777   57608.14\n",
      "1514  99133   36  19516    4701.69\n",
      "1515  99190   51  14728    8143.81\n",
      "1516  99262   50  12922   11864.33\n",
      "1518  99393   27  20049   15408.34\n",
      "1519  99403   62  15307   34836.67\n",
      "1520  99454   28  18636    4906.83\n",
      "1521  99466   52  15134  113679.26\n",
      "1522  99471   53  19112   16685.41\n",
      "1523  99526   52   9837   81199.92\n",
      "1524  99585   30  19042    7637.69\n",
      "1525  99649   44  18130   15639.94\n",
      "1526  99742   38  12942   11539.88\n",
      "1527  99757   31  20126    6434.49\n",
      "1528  99813   63  10941   29040.16\n",
      "1529  99946   29  18726   28555.74\n",
      "\n",
      "[1472 rows x 4 columns]\n"
     ]
    }
   ],
   "source": [
    "# 4c) For all rows in which income is equal to zero, recode income to be equal to 1\n",
    "\n",
    "# YOUR CODE HERE\n",
    "df = df.replace(0., 1.0)\n",
    "print(df)"
   ]
  },
  {
   "cell_type": "code",
   "execution_count": 35,
   "metadata": {
    "collapsed": true,
    "deletable": false,
    "editable": false,
    "nbgrader": {
     "checksum": "9891102624cee9d33f1ab288195738ec",
     "grade": true,
     "grade_id": "test_recoded_zero",
     "locked": true,
     "points": 0.25,
     "schema_version": 1,
     "solution": false
    }
   },
   "outputs": [],
   "source": [
    "# Tests for 4c\n",
    "\n",
    "assert sum(df['income'] == 0.) == 0"
   ]
  },
  {
   "cell_type": "code",
   "execution_count": 36,
   "metadata": {
    "deletable": false,
    "nbgrader": {
     "checksum": "46cf5b6675abf8cd7d7ed1160bcf0ea4",
     "grade": false,
     "grade_id": "log",
     "locked": false,
     "schema_version": 1,
     "solution": true
    }
   },
   "outputs": [
    {
     "name": "stdout",
     "output_type": "stream",
     "text": [
      "         id  age  steps    income\n",
      "0       125   41  17545  4.154590\n",
      "1       170   38  27851  4.256012\n",
      "2       193   49  16507  4.051023\n",
      "3       291   37  24488  3.731999\n",
      "4       315   46  10468  3.684328\n",
      "5       412   44  16895  3.606916\n",
      "6       480   32  15574  4.001555\n",
      "7       689   49  18892  4.025610\n",
      "8       704   67  14127  4.220548\n",
      "9       967   53  24145  4.344415\n",
      "10      992   72   8829  4.356946\n",
      "11     1095   50  15676  4.056526\n",
      "12     1252   55  14602  4.301109\n",
      "13     1335   50   9444  3.757007\n",
      "15     1527   59   8086  0.000000\n",
      "16     1545   36  18504  4.091998\n",
      "17     1567   68  19049  4.397484\n",
      "18     1666   59  18463  4.909677\n",
      "19     1797   56  17193  4.333242\n",
      "20     1849   73  10113  4.598011\n",
      "21     2000   56  15299  4.233698\n",
      "22     2349   56  23411  4.602367\n",
      "23     2373   38  18557  0.000000\n",
      "24     2481   59  13144  4.465460\n",
      "25     2521   55  13061  5.007833\n",
      "26     2588   80   8746  4.863733\n",
      "27     2652   51  14076  3.218575\n",
      "28     2754   51  14893  4.079816\n",
      "29     2762   56  17658  4.601195\n",
      "30     2785   48  19551  4.371583\n",
      "...     ...  ...    ...       ...\n",
      "1499  98422   30  21031  3.549463\n",
      "1500  98425   36  15637  0.000000\n",
      "1501  98507   28  11558  0.000000\n",
      "1502  98599   48  14382  4.578248\n",
      "1503  98683   63  15848  4.534272\n",
      "1504  98705   49  14070  3.964408\n",
      "1505  98735   77  21519  4.479496\n",
      "1506  98873   45  18349  4.299610\n",
      "1507  98898   43  13283  4.541122\n",
      "1508  98918   53  12337  4.594776\n",
      "1509  98963   55  11652  4.695797\n",
      "1510  98992   44  19808  4.114411\n",
      "1511  99004   36  16833  4.640564\n",
      "1512  99028   67  15044  4.388731\n",
      "1513  99033   52  18777  4.760484\n",
      "1514  99133   36  19516  3.672254\n",
      "1515  99190   51  14728  3.910828\n",
      "1516  99262   50  12922  4.074243\n",
      "1518  99393   27  20049  4.187756\n",
      "1519  99403   62  15307  4.542037\n",
      "1520  99454   28  18636  3.690801\n",
      "1521  99466   52  15134  5.055681\n",
      "1522  99471   53  19112  4.222337\n",
      "1523  99526   52   9837  4.909556\n",
      "1524  99585   30  19042  3.882962\n",
      "1525  99649   44  18130  4.194235\n",
      "1526  99742   38  12942  4.062201\n",
      "1527  99757   31  20126  3.808514\n",
      "1528  99813   63  10941  4.462999\n",
      "1529  99946   29  18726  4.455693\n",
      "\n",
      "[1472 rows x 4 columns]\n"
     ]
    }
   ],
   "source": [
    "# 4d) Transform income using a log10 transform\n",
    "\n",
    "# YOUR CODE HERE\n",
    "df['income'] = np.log10(df['income'])\n",
    "print(df)"
   ]
  },
  {
   "cell_type": "code",
   "execution_count": 37,
   "metadata": {
    "deletable": false,
    "editable": false,
    "nbgrader": {
     "checksum": "a9315e0b509dabc0da8b61e7e911d598",
     "grade": true,
     "grade_id": "test_log",
     "locked": true,
     "points": 0.25,
     "schema_version": 1,
     "solution": false
    }
   },
   "outputs": [],
   "source": [
    "# Tests for 4d\n",
    "\n",
    "assert np.isclose(min(df['income']), 0.0, 0.05)\n",
    "assert np.isclose(max(df['income']), 5.62, 0.05)"
   ]
  },
  {
   "cell_type": "code",
   "execution_count": 38,
   "metadata": {
    "deletable": false,
    "nbgrader": {
     "checksum": "7d1bc4ed03245e283891c13704a14e4e",
     "grade": false,
     "grade_id": "replot_log",
     "locked": false,
     "schema_version": 1,
     "solution": true
    }
   },
   "outputs": [
    {
     "data": {
      "image/png": "[encoded data removed]",
      "text/plain": [
       "<matplotlib.figure.Figure at 0x125ac49e5f8>"
      ]
     },
     "metadata": {},
     "output_type": "display_data"
    }
   ],
   "source": [
    "# 4e) Replot the histogram for income data after the data transformation\n",
    "\n",
    "# YOUR CODE HERE\n",
    "from pandas.tools.plotting import scatter_matrix\n",
    "fd = pd.plotting.scatter_matrix(df[['age', 'steps', 'income']])\n",
    "f4 = plt.gcf()"
   ]
  },
  {
   "cell_type": "code",
   "execution_count": 39,
   "metadata": {
    "collapsed": true,
    "deletable": false,
    "editable": false,
    "nbgrader": {
     "checksum": "ab4d439fa76e54698aac7c6c2d1d8eb4",
     "grade": true,
     "grade_id": "test_replot_hist",
     "locked": true,
     "points": 0.25,
     "schema_version": 1,
     "solution": false
    }
   },
   "outputs": [],
   "source": [
    "# Tests for 4e\n",
    "\n",
    "assert f4.gca().has_data()"
   ]
  },
  {
   "cell_type": "code",
   "execution_count": 40,
   "metadata": {
    "deletable": false,
    "nbgrader": {
     "checksum": "2937da3ac71c5ac087aba4b81365ece8",
     "grade": false,
     "grade_id": "rm_young",
     "locked": false,
     "schema_version": 1,
     "solution": true
    }
   },
   "outputs": [
    {
     "name": "stdout",
     "output_type": "stream",
     "text": [
      "         id  age  steps    income\n",
      "0       125   41  17545  4.154590\n",
      "1       170   38  27851  4.256012\n",
      "2       193   49  16507  4.051023\n",
      "3       291   37  24488  3.731999\n",
      "4       315   46  10468  3.684328\n",
      "5       412   44  16895  3.606916\n",
      "6       480   32  15574  4.001555\n",
      "7       689   49  18892  4.025610\n",
      "8       704   67  14127  4.220548\n",
      "9       967   53  24145  4.344415\n",
      "10      992   72   8829  4.356946\n",
      "11     1095   50  15676  4.056526\n",
      "12     1252   55  14602  4.301109\n",
      "13     1335   50   9444  3.757007\n",
      "15     1527   59   8086  0.000000\n",
      "16     1545   36  18504  4.091998\n",
      "17     1567   68  19049  4.397484\n",
      "18     1666   59  18463  4.909677\n",
      "19     1797   56  17193  4.333242\n",
      "20     1849   73  10113  4.598011\n",
      "21     2000   56  15299  4.233698\n",
      "22     2349   56  23411  4.602367\n",
      "23     2373   38  18557  0.000000\n",
      "24     2481   59  13144  4.465460\n",
      "25     2521   55  13061  5.007833\n",
      "26     2588   80   8746  4.863733\n",
      "27     2652   51  14076  3.218575\n",
      "28     2754   51  14893  4.079816\n",
      "29     2762   56  17658  4.601195\n",
      "30     2785   48  19551  4.371583\n",
      "...     ...  ...    ...       ...\n",
      "1499  98422   30  21031  3.549463\n",
      "1500  98425   36  15637  0.000000\n",
      "1501  98507   28  11558  0.000000\n",
      "1502  98599   48  14382  4.578248\n",
      "1503  98683   63  15848  4.534272\n",
      "1504  98705   49  14070  3.964408\n",
      "1505  98735   77  21519  4.479496\n",
      "1506  98873   45  18349  4.299610\n",
      "1507  98898   43  13283  4.541122\n",
      "1508  98918   53  12337  4.594776\n",
      "1509  98963   55  11652  4.695797\n",
      "1510  98992   44  19808  4.114411\n",
      "1511  99004   36  16833  4.640564\n",
      "1512  99028   67  15044  4.388731\n",
      "1513  99033   52  18777  4.760484\n",
      "1514  99133   36  19516  3.672254\n",
      "1515  99190   51  14728  3.910828\n",
      "1516  99262   50  12922  4.074243\n",
      "1518  99393   27  20049  4.187756\n",
      "1519  99403   62  15307  4.542037\n",
      "1520  99454   28  18636  3.690801\n",
      "1521  99466   52  15134  5.055681\n",
      "1522  99471   53  19112  4.222337\n",
      "1523  99526   52   9837  4.909556\n",
      "1524  99585   30  19042  3.882962\n",
      "1525  99649   44  18130  4.194235\n",
      "1526  99742   38  12942  4.062201\n",
      "1527  99757   31  20126  3.808514\n",
      "1528  99813   63  10941  4.462999\n",
      "1529  99946   29  18726  4.455693\n",
      "\n",
      "[1467 rows x 4 columns]\n"
     ]
    }
   ],
   "source": [
    "# 4f) We might also have certain regulations or restrictions that we need to follow about the data. \n",
    "# Here, we will only analyze adults. Remove all rows where age is less than 18.\n",
    "\n",
    "# YOUR CODE HERE\n",
    "df = df[df.age >= 18]\n",
    "print(df)"
   ]
  },
  {
   "cell_type": "code",
   "execution_count": 41,
   "metadata": {
    "collapsed": true,
    "deletable": false,
    "editable": false,
    "nbgrader": {
     "checksum": "c7a17ec437ee3b2ee0d1f49e2cff9a00",
     "grade": true,
     "grade_id": "test_rm_young",
     "locked": true,
     "points": 0.25,
     "schema_version": 1,
     "solution": false
    }
   },
   "outputs": [],
   "source": [
    "# Tests for 4f\n",
    "\n",
    "assert min(df['age']) >= 18"
   ]
  },
  {
   "cell_type": "markdown",
   "metadata": {
    "deletable": false,
    "editable": false,
    "nbgrader": {
     "checksum": "0b4877a529116ab66e7c74023312e008",
     "grade": false,
     "grade_id": "cell-59538e474c852d99",
     "locked": true,
     "schema_version": 1,
     "solution": false
    }
   },
   "source": [
    "## Part 5 Outliers\n",
    "\n",
    "So far, we have dealt with the most clearly wrong or impossible data values. \n",
    "\n",
    "We might still might need to deal with more subtle outliers: values that seem abnormally high or low. These values may seem suspicious, and they may skew our analyses. \n",
    "\n",
    "In this step, we are going to deal with outlier values by removing all rows in which the data for the steps column exceeds +/- 3 standard deviations above or below the mean.\n",
    "\n",
    "Note that when you perform this kind of outlier removal can have large impacts. For example, the procedure we take here might give quite different results if we did it before removing the -1 values in steps. "
   ]
  },
  {
   "cell_type": "code",
   "execution_count": 42,
   "metadata": {
    "deletable": false,
    "nbgrader": {
     "checksum": "5becc3d0a09891e2d275e5c029a9b05d",
     "grade": false,
     "grade_id": "rm_outliers_setup",
     "locked": false,
     "schema_version": 1,
     "solution": true
    }
   },
   "outputs": [
    {
     "name": "stdout",
     "output_type": "stream",
     "text": [
      "13320.628581619098\n",
      "29998.671526404374\n",
      "3357.414363166179\n"
     ]
    }
   ],
   "source": [
    "# 5a) For the steps data: \n",
    "# - Calculate what three times the standard deviation is, and save it to variables called 'std3'. \n",
    "#    Note: you must use pandas to calculate the standard devation!\n",
    "#    Pandas & Numpy use slightly different conventions for std, so using numpy here will get a different value\n",
    "# - Using 'std3', create new variables, called std_max' and 'std_min'.\n",
    "#    These will store our cut-off values: 3 std above and below the mean respectively. \n",
    "\n",
    "# YOUR CODE HERE\n",
    "std3 = 3*df['steps'].std()\n",
    "std_max = df['steps'].mean()+std3\n",
    "std_min = df['steps'].mean()-std3\n",
    "print(std3)\n",
    "print(std_max)\n",
    "print(std_min)"
   ]
  },
  {
   "cell_type": "code",
   "execution_count": 43,
   "metadata": {
    "deletable": false,
    "editable": false,
    "nbgrader": {
     "checksum": "5d655f1bea1a96b4abf8a325cc2571a5",
     "grade": true,
     "grade_id": "test_rm_outliers_setup",
     "locked": true,
     "points": 0.5,
     "schema_version": 1,
     "solution": false
    }
   },
   "outputs": [],
   "source": [
    "# Tests for 5a\n",
    "\n",
    "assert(std3)\n",
    "assert(std_min)\n",
    "assert(std_max)\n"
   ]
  },
  {
   "cell_type": "code",
   "execution_count": 44,
   "metadata": {
    "deletable": false,
    "nbgrader": {
     "checksum": "a5880f6248c32c4316eb7a6d4f2d245f",
     "grade": false,
     "grade_id": "rm_outliers",
     "locked": false,
     "schema_version": 1,
     "solution": true
    }
   },
   "outputs": [
    {
     "data": {
      "text/html": [
       "<div>\n",
       "<style>\n",
       "    .dataframe thead tr:only-child th {\n",
       "        text-align: right;\n",
       "    }\n",
       "\n",
       "    .dataframe thead th {\n",
       "        text-align: left;\n",
       "    }\n",
       "\n",
       "    .dataframe tbody tr th {\n",
       "        vertical-align: top;\n",
       "    }\n",
       "</style>\n",
       "<table border=\"1\" class=\"dataframe\">\n",
       "  <thead>\n",
       "    <tr style=\"text-align: right;\">\n",
       "      <th></th>\n",
       "      <th>id</th>\n",
       "      <th>age</th>\n",
       "      <th>steps</th>\n",
       "      <th>income</th>\n",
       "    </tr>\n",
       "  </thead>\n",
       "  <tbody>\n",
       "    <tr>\n",
       "      <th>0</th>\n",
       "      <td>125</td>\n",
       "      <td>41</td>\n",
       "      <td>17545</td>\n",
       "      <td>4.154590</td>\n",
       "    </tr>\n",
       "    <tr>\n",
       "      <th>1</th>\n",
       "      <td>170</td>\n",
       "      <td>38</td>\n",
       "      <td>27851</td>\n",
       "      <td>4.256012</td>\n",
       "    </tr>\n",
       "    <tr>\n",
       "      <th>2</th>\n",
       "      <td>193</td>\n",
       "      <td>49</td>\n",
       "      <td>16507</td>\n",
       "      <td>4.051023</td>\n",
       "    </tr>\n",
       "    <tr>\n",
       "      <th>3</th>\n",
       "      <td>291</td>\n",
       "      <td>37</td>\n",
       "      <td>24488</td>\n",
       "      <td>3.731999</td>\n",
       "    </tr>\n",
       "    <tr>\n",
       "      <th>4</th>\n",
       "      <td>315</td>\n",
       "      <td>46</td>\n",
       "      <td>10468</td>\n",
       "      <td>3.684328</td>\n",
       "    </tr>\n",
       "    <tr>\n",
       "      <th>5</th>\n",
       "      <td>412</td>\n",
       "      <td>44</td>\n",
       "      <td>16895</td>\n",
       "      <td>3.606916</td>\n",
       "    </tr>\n",
       "    <tr>\n",
       "      <th>6</th>\n",
       "      <td>480</td>\n",
       "      <td>32</td>\n",
       "      <td>15574</td>\n",
       "      <td>4.001555</td>\n",
       "    </tr>\n",
       "    <tr>\n",
       "      <th>7</th>\n",
       "      <td>689</td>\n",
       "      <td>49</td>\n",
       "      <td>18892</td>\n",
       "      <td>4.025610</td>\n",
       "    </tr>\n",
       "    <tr>\n",
       "      <th>8</th>\n",
       "      <td>704</td>\n",
       "      <td>67</td>\n",
       "      <td>14127</td>\n",
       "      <td>4.220548</td>\n",
       "    </tr>\n",
       "    <tr>\n",
       "      <th>9</th>\n",
       "      <td>967</td>\n",
       "      <td>53</td>\n",
       "      <td>24145</td>\n",
       "      <td>4.344415</td>\n",
       "    </tr>\n",
       "    <tr>\n",
       "      <th>10</th>\n",
       "      <td>992</td>\n",
       "      <td>72</td>\n",
       "      <td>8829</td>\n",
       "      <td>4.356946</td>\n",
       "    </tr>\n",
       "    <tr>\n",
       "      <th>11</th>\n",
       "      <td>1095</td>\n",
       "      <td>50</td>\n",
       "      <td>15676</td>\n",
       "      <td>4.056526</td>\n",
       "    </tr>\n",
       "    <tr>\n",
       "      <th>12</th>\n",
       "      <td>1252</td>\n",
       "      <td>55</td>\n",
       "      <td>14602</td>\n",
       "      <td>4.301109</td>\n",
       "    </tr>\n",
       "    <tr>\n",
       "      <th>13</th>\n",
       "      <td>1335</td>\n",
       "      <td>50</td>\n",
       "      <td>9444</td>\n",
       "      <td>3.757007</td>\n",
       "    </tr>\n",
       "    <tr>\n",
       "      <th>15</th>\n",
       "      <td>1527</td>\n",
       "      <td>59</td>\n",
       "      <td>8086</td>\n",
       "      <td>0.000000</td>\n",
       "    </tr>\n",
       "    <tr>\n",
       "      <th>16</th>\n",
       "      <td>1545</td>\n",
       "      <td>36</td>\n",
       "      <td>18504</td>\n",
       "      <td>4.091998</td>\n",
       "    </tr>\n",
       "    <tr>\n",
       "      <th>17</th>\n",
       "      <td>1567</td>\n",
       "      <td>68</td>\n",
       "      <td>19049</td>\n",
       "      <td>4.397484</td>\n",
       "    </tr>\n",
       "    <tr>\n",
       "      <th>18</th>\n",
       "      <td>1666</td>\n",
       "      <td>59</td>\n",
       "      <td>18463</td>\n",
       "      <td>4.909677</td>\n",
       "    </tr>\n",
       "    <tr>\n",
       "      <th>19</th>\n",
       "      <td>1797</td>\n",
       "      <td>56</td>\n",
       "      <td>17193</td>\n",
       "      <td>4.333242</td>\n",
       "    </tr>\n",
       "    <tr>\n",
       "      <th>20</th>\n",
       "      <td>1849</td>\n",
       "      <td>73</td>\n",
       "      <td>10113</td>\n",
       "      <td>4.598011</td>\n",
       "    </tr>\n",
       "    <tr>\n",
       "      <th>21</th>\n",
       "      <td>2000</td>\n",
       "      <td>56</td>\n",
       "      <td>15299</td>\n",
       "      <td>4.233698</td>\n",
       "    </tr>\n",
       "    <tr>\n",
       "      <th>22</th>\n",
       "      <td>2349</td>\n",
       "      <td>56</td>\n",
       "      <td>23411</td>\n",
       "      <td>4.602367</td>\n",
       "    </tr>\n",
       "    <tr>\n",
       "      <th>23</th>\n",
       "      <td>2373</td>\n",
       "      <td>38</td>\n",
       "      <td>18557</td>\n",
       "      <td>0.000000</td>\n",
       "    </tr>\n",
       "    <tr>\n",
       "      <th>24</th>\n",
       "      <td>2481</td>\n",
       "      <td>59</td>\n",
       "      <td>13144</td>\n",
       "      <td>4.465460</td>\n",
       "    </tr>\n",
       "    <tr>\n",
       "      <th>25</th>\n",
       "      <td>2521</td>\n",
       "      <td>55</td>\n",
       "      <td>13061</td>\n",
       "      <td>5.007833</td>\n",
       "    </tr>\n",
       "    <tr>\n",
       "      <th>26</th>\n",
       "      <td>2588</td>\n",
       "      <td>80</td>\n",
       "      <td>8746</td>\n",
       "      <td>4.863733</td>\n",
       "    </tr>\n",
       "    <tr>\n",
       "      <th>27</th>\n",
       "      <td>2652</td>\n",
       "      <td>51</td>\n",
       "      <td>14076</td>\n",
       "      <td>3.218575</td>\n",
       "    </tr>\n",
       "    <tr>\n",
       "      <th>28</th>\n",
       "      <td>2754</td>\n",
       "      <td>51</td>\n",
       "      <td>14893</td>\n",
       "      <td>4.079816</td>\n",
       "    </tr>\n",
       "    <tr>\n",
       "      <th>29</th>\n",
       "      <td>2762</td>\n",
       "      <td>56</td>\n",
       "      <td>17658</td>\n",
       "      <td>4.601195</td>\n",
       "    </tr>\n",
       "    <tr>\n",
       "      <th>30</th>\n",
       "      <td>2785</td>\n",
       "      <td>48</td>\n",
       "      <td>19551</td>\n",
       "      <td>4.371583</td>\n",
       "    </tr>\n",
       "    <tr>\n",
       "      <th>...</th>\n",
       "      <td>...</td>\n",
       "      <td>...</td>\n",
       "      <td>...</td>\n",
       "      <td>...</td>\n",
       "    </tr>\n",
       "    <tr>\n",
       "      <th>1499</th>\n",
       "      <td>98422</td>\n",
       "      <td>30</td>\n",
       "      <td>21031</td>\n",
       "      <td>3.549463</td>\n",
       "    </tr>\n",
       "    <tr>\n",
       "      <th>1500</th>\n",
       "      <td>98425</td>\n",
       "      <td>36</td>\n",
       "      <td>15637</td>\n",
       "      <td>0.000000</td>\n",
       "    </tr>\n",
       "    <tr>\n",
       "      <th>1501</th>\n",
       "      <td>98507</td>\n",
       "      <td>28</td>\n",
       "      <td>11558</td>\n",
       "      <td>0.000000</td>\n",
       "    </tr>\n",
       "    <tr>\n",
       "      <th>1502</th>\n",
       "      <td>98599</td>\n",
       "      <td>48</td>\n",
       "      <td>14382</td>\n",
       "      <td>4.578248</td>\n",
       "    </tr>\n",
       "    <tr>\n",
       "      <th>1503</th>\n",
       "      <td>98683</td>\n",
       "      <td>63</td>\n",
       "      <td>15848</td>\n",
       "      <td>4.534272</td>\n",
       "    </tr>\n",
       "    <tr>\n",
       "      <th>1504</th>\n",
       "      <td>98705</td>\n",
       "      <td>49</td>\n",
       "      <td>14070</td>\n",
       "      <td>3.964408</td>\n",
       "    </tr>\n",
       "    <tr>\n",
       "      <th>1505</th>\n",
       "      <td>98735</td>\n",
       "      <td>77</td>\n",
       "      <td>21519</td>\n",
       "      <td>4.479496</td>\n",
       "    </tr>\n",
       "    <tr>\n",
       "      <th>1506</th>\n",
       "      <td>98873</td>\n",
       "      <td>45</td>\n",
       "      <td>18349</td>\n",
       "      <td>4.299610</td>\n",
       "    </tr>\n",
       "    <tr>\n",
       "      <th>1507</th>\n",
       "      <td>98898</td>\n",
       "      <td>43</td>\n",
       "      <td>13283</td>\n",
       "      <td>4.541122</td>\n",
       "    </tr>\n",
       "    <tr>\n",
       "      <th>1508</th>\n",
       "      <td>98918</td>\n",
       "      <td>53</td>\n",
       "      <td>12337</td>\n",
       "      <td>4.594776</td>\n",
       "    </tr>\n",
       "    <tr>\n",
       "      <th>1509</th>\n",
       "      <td>98963</td>\n",
       "      <td>55</td>\n",
       "      <td>11652</td>\n",
       "      <td>4.695797</td>\n",
       "    </tr>\n",
       "    <tr>\n",
       "      <th>1510</th>\n",
       "      <td>98992</td>\n",
       "      <td>44</td>\n",
       "      <td>19808</td>\n",
       "      <td>4.114411</td>\n",
       "    </tr>\n",
       "    <tr>\n",
       "      <th>1511</th>\n",
       "      <td>99004</td>\n",
       "      <td>36</td>\n",
       "      <td>16833</td>\n",
       "      <td>4.640564</td>\n",
       "    </tr>\n",
       "    <tr>\n",
       "      <th>1512</th>\n",
       "      <td>99028</td>\n",
       "      <td>67</td>\n",
       "      <td>15044</td>\n",
       "      <td>4.388731</td>\n",
       "    </tr>\n",
       "    <tr>\n",
       "      <th>1513</th>\n",
       "      <td>99033</td>\n",
       "      <td>52</td>\n",
       "      <td>18777</td>\n",
       "      <td>4.760484</td>\n",
       "    </tr>\n",
       "    <tr>\n",
       "      <th>1514</th>\n",
       "      <td>99133</td>\n",
       "      <td>36</td>\n",
       "      <td>19516</td>\n",
       "      <td>3.672254</td>\n",
       "    </tr>\n",
       "    <tr>\n",
       "      <th>1515</th>\n",
       "      <td>99190</td>\n",
       "      <td>51</td>\n",
       "      <td>14728</td>\n",
       "      <td>3.910828</td>\n",
       "    </tr>\n",
       "    <tr>\n",
       "      <th>1516</th>\n",
       "      <td>99262</td>\n",
       "      <td>50</td>\n",
       "      <td>12922</td>\n",
       "      <td>4.074243</td>\n",
       "    </tr>\n",
       "    <tr>\n",
       "      <th>1518</th>\n",
       "      <td>99393</td>\n",
       "      <td>27</td>\n",
       "      <td>20049</td>\n",
       "      <td>4.187756</td>\n",
       "    </tr>\n",
       "    <tr>\n",
       "      <th>1519</th>\n",
       "      <td>99403</td>\n",
       "      <td>62</td>\n",
       "      <td>15307</td>\n",
       "      <td>4.542037</td>\n",
       "    </tr>\n",
       "    <tr>\n",
       "      <th>1520</th>\n",
       "      <td>99454</td>\n",
       "      <td>28</td>\n",
       "      <td>18636</td>\n",
       "      <td>3.690801</td>\n",
       "    </tr>\n",
       "    <tr>\n",
       "      <th>1521</th>\n",
       "      <td>99466</td>\n",
       "      <td>52</td>\n",
       "      <td>15134</td>\n",
       "      <td>5.055681</td>\n",
       "    </tr>\n",
       "    <tr>\n",
       "      <th>1522</th>\n",
       "      <td>99471</td>\n",
       "      <td>53</td>\n",
       "      <td>19112</td>\n",
       "      <td>4.222337</td>\n",
       "    </tr>\n",
       "    <tr>\n",
       "      <th>1523</th>\n",
       "      <td>99526</td>\n",
       "      <td>52</td>\n",
       "      <td>9837</td>\n",
       "      <td>4.909556</td>\n",
       "    </tr>\n",
       "    <tr>\n",
       "      <th>1524</th>\n",
       "      <td>99585</td>\n",
       "      <td>30</td>\n",
       "      <td>19042</td>\n",
       "      <td>3.882962</td>\n",
       "    </tr>\n",
       "    <tr>\n",
       "      <th>1525</th>\n",
       "      <td>99649</td>\n",
       "      <td>44</td>\n",
       "      <td>18130</td>\n",
       "      <td>4.194235</td>\n",
       "    </tr>\n",
       "    <tr>\n",
       "      <th>1526</th>\n",
       "      <td>99742</td>\n",
       "      <td>38</td>\n",
       "      <td>12942</td>\n",
       "      <td>4.062201</td>\n",
       "    </tr>\n",
       "    <tr>\n",
       "      <th>1527</th>\n",
       "      <td>99757</td>\n",
       "      <td>31</td>\n",
       "      <td>20126</td>\n",
       "      <td>3.808514</td>\n",
       "    </tr>\n",
       "    <tr>\n",
       "      <th>1528</th>\n",
       "      <td>99813</td>\n",
       "      <td>63</td>\n",
       "      <td>10941</td>\n",
       "      <td>4.462999</td>\n",
       "    </tr>\n",
       "    <tr>\n",
       "      <th>1529</th>\n",
       "      <td>99946</td>\n",
       "      <td>29</td>\n",
       "      <td>18726</td>\n",
       "      <td>4.455693</td>\n",
       "    </tr>\n",
       "  </tbody>\n",
       "</table>\n",
       "<p>1463 rows × 4 columns</p>\n",
       "</div>"
      ],
      "text/plain": [
       "         id  age  steps    income\n",
       "0       125   41  17545  4.154590\n",
       "1       170   38  27851  4.256012\n",
       "2       193   49  16507  4.051023\n",
       "3       291   37  24488  3.731999\n",
       "4       315   46  10468  3.684328\n",
       "5       412   44  16895  3.606916\n",
       "6       480   32  15574  4.001555\n",
       "7       689   49  18892  4.025610\n",
       "8       704   67  14127  4.220548\n",
       "9       967   53  24145  4.344415\n",
       "10      992   72   8829  4.356946\n",
       "11     1095   50  15676  4.056526\n",
       "12     1252   55  14602  4.301109\n",
       "13     1335   50   9444  3.757007\n",
       "15     1527   59   8086  0.000000\n",
       "16     1545   36  18504  4.091998\n",
       "17     1567   68  19049  4.397484\n",
       "18     1666   59  18463  4.909677\n",
       "19     1797   56  17193  4.333242\n",
       "20     1849   73  10113  4.598011\n",
       "21     2000   56  15299  4.233698\n",
       "22     2349   56  23411  4.602367\n",
       "23     2373   38  18557  0.000000\n",
       "24     2481   59  13144  4.465460\n",
       "25     2521   55  13061  5.007833\n",
       "26     2588   80   8746  4.863733\n",
       "27     2652   51  14076  3.218575\n",
       "28     2754   51  14893  4.079816\n",
       "29     2762   56  17658  4.601195\n",
       "30     2785   48  19551  4.371583\n",
       "...     ...  ...    ...       ...\n",
       "1499  98422   30  21031  3.549463\n",
       "1500  98425   36  15637  0.000000\n",
       "1501  98507   28  11558  0.000000\n",
       "1502  98599   48  14382  4.578248\n",
       "1503  98683   63  15848  4.534272\n",
       "1504  98705   49  14070  3.964408\n",
       "1505  98735   77  21519  4.479496\n",
       "1506  98873   45  18349  4.299610\n",
       "1507  98898   43  13283  4.541122\n",
       "1508  98918   53  12337  4.594776\n",
       "1509  98963   55  11652  4.695797\n",
       "1510  98992   44  19808  4.114411\n",
       "1511  99004   36  16833  4.640564\n",
       "1512  99028   67  15044  4.388731\n",
       "1513  99033   52  18777  4.760484\n",
       "1514  99133   36  19516  3.672254\n",
       "1515  99190   51  14728  3.910828\n",
       "1516  99262   50  12922  4.074243\n",
       "1518  99393   27  20049  4.187756\n",
       "1519  99403   62  15307  4.542037\n",
       "1520  99454   28  18636  3.690801\n",
       "1521  99466   52  15134  5.055681\n",
       "1522  99471   53  19112  4.222337\n",
       "1523  99526   52   9837  4.909556\n",
       "1524  99585   30  19042  3.882962\n",
       "1525  99649   44  18130  4.194235\n",
       "1526  99742   38  12942  4.062201\n",
       "1527  99757   31  20126  3.808514\n",
       "1528  99813   63  10941  4.462999\n",
       "1529  99946   29  18726  4.455693\n",
       "\n",
       "[1463 rows x 4 columns]"
      ]
     },
     "execution_count": 44,
     "metadata": {},
     "output_type": "execute_result"
    }
   ],
   "source": [
    "# 5b) Now use these values to remove any rows with steps data above or below these thresholds\n",
    "\n",
    "# YOUR CODE HERE\n",
    "df = df[df.steps > std_min]\n",
    "df = df[df.steps < std_max]\n",
    "df"
   ]
  },
  {
   "cell_type": "code",
   "execution_count": 45,
   "metadata": {
    "collapsed": true,
    "deletable": false,
    "editable": false,
    "nbgrader": {
     "checksum": "c8ab28f862c23bd24586fe9715779e6e",
     "grade": true,
     "grade_id": "tests_rm_outliers",
     "locked": true,
     "points": 0.5,
     "schema_version": 1,
     "solution": false
    }
   },
   "outputs": [],
   "source": [
    "# Tests for 5b\n",
    "\n",
    "assert np.all(df['steps'])\n"
   ]
  },
  {
   "cell_type": "code",
   "execution_count": 46,
   "metadata": {
    "deletable": false,
    "editable": false,
    "nbgrader": {
     "checksum": "7cb5f566708426b0d522f0b3c3131cd5",
     "grade": false,
     "grade_id": "check_data_shape",
     "locked": true,
     "schema_version": 1,
     "solution": false
    }
   },
   "outputs": [],
   "source": [
    "# CHECK IN\n",
    "# Check that the following test passes - if it fails, you have the wrong amount of data left. \n",
    "#  If so, go back and try to fix your cleaning steps, else your analysis answers will be wrong.\n",
    "assert df.shape == (1463, 4)"
   ]
  },
  {
   "cell_type": "markdown",
   "metadata": {
    "deletable": false,
    "editable": false,
    "nbgrader": {
     "checksum": "59326f7d10abb0b7bd9411d294e5ce35",
     "grade": false,
     "grade_id": "part3",
     "locked": true,
     "schema_version": 1,
     "solution": false
    }
   },
   "source": [
    "## Part 6 - Basic Analyses\n",
    "\n",
    "Now that we have wrangled and cleaned our data, we can start doing some simple analyses. \n",
    "\n",
    "Here we will explore some basic descriptive summaries of our data, look into the inter-relations (correlations) between variables, and ask some simple questions about potentially interesting subsets of our data. "
   ]
  },
  {
   "cell_type": "code",
   "execution_count": 47,
   "metadata": {
    "deletable": false,
    "nbgrader": {
     "checksum": "bdd44bc4f00ce8bdd94afb77afdccb27",
     "grade": false,
     "grade_id": "cell-ae86332aaa14d006",
     "locked": false,
     "schema_version": 1,
     "solution": true
    }
   },
   "outputs": [
    {
     "name": "stdout",
     "output_type": "stream",
     "text": [
      "                 id          age         steps       income\n",
      "count   1463.000000  1463.000000   1463.000000  1463.000000\n",
      "mean   51119.735475    50.051265  16680.046480     4.025753\n",
      "std    28713.422026    11.699765   4379.727867     1.056158\n",
      "min      125.000000    18.000000   4545.000000     0.000000\n",
      "25%    26986.500000    42.000000  13551.500000     3.903560\n",
      "50%    50861.000000    50.000000  16722.000000     4.219474\n",
      "75%    76504.500000    57.000000  19696.000000     4.529206\n",
      "max    99946.000000    91.000000  29540.000000     5.627168\n"
     ]
    }
   ],
   "source": [
    "# 6a) Descriptive summary\n",
    "# Use the 'describe' pandas method to check a descriptive summary of the data\n",
    "#   Save the dataframe generated by describe to a new variable called 'desc'\n",
    "\n",
    "# YOUR CODE HERE\n",
    "desc = df.describe()\n",
    "print(desc)\n",
    "\n"
   ]
  },
  {
   "cell_type": "code",
   "execution_count": 48,
   "metadata": {
    "deletable": false,
    "editable": false,
    "nbgrader": {
     "checksum": "501154fbaf2902ce9a791be0ff3a9a51",
     "grade": true,
     "grade_id": "cell-ff715fe5f2413f68",
     "locked": true,
     "points": 0.5,
     "schema_version": 1,
     "solution": false
    }
   },
   "outputs": [],
   "source": [
    "# Tests for 6a\n",
    "\n",
    "assert isinstance(desc, pd.DataFrame)"
   ]
  },
  {
   "cell_type": "code",
   "execution_count": 49,
   "metadata": {
    "deletable": false,
    "nbgrader": {
     "checksum": "c54eca150a955c5553be5d8837d2a01d",
     "grade": false,
     "grade_id": "calc_corrs",
     "locked": false,
     "schema_version": 1,
     "solution": true
    }
   },
   "outputs": [
    {
     "name": "stdout",
     "output_type": "stream",
     "text": [
      "              id       age     steps    income\n",
      "id      1.000000  0.026132  0.005500  0.045714\n",
      "age     0.026132  1.000000 -0.309803  0.134383\n",
      "steps   0.005500 -0.309803  1.000000  0.001249\n",
      "income  0.045714  0.134383  0.001249  1.000000\n"
     ]
    }
   ],
   "source": [
    "# 6b) Calculate the pairwise correlations between all variables. \n",
    "#  Notes: do this with a pandas method. Keep all columns (including ID).\n",
    "#  Assign the result (which should be a dataframe) to a variable called 'corrs'.\n",
    "\n",
    "# YOUR CODE HERE\n",
    "corrs = df.corr()\n",
    "print(corrs)"
   ]
  },
  {
   "cell_type": "code",
   "execution_count": 50,
   "metadata": {
    "collapsed": true,
    "deletable": false,
    "editable": false,
    "nbgrader": {
     "checksum": "b83d98e4f612904a878fdb62f75789f8",
     "grade": true,
     "grade_id": "test_calc_corrs",
     "locked": true,
     "points": 0.25,
     "schema_version": 1,
     "solution": false
    }
   },
   "outputs": [],
   "source": [
    "# Tests for 6b\n",
    "\n",
    "assert isinstance(corrs, pd.DataFrame)\n",
    "assert corrs.shape == (4, 4)"
   ]
  },
  {
   "cell_type": "code",
   "execution_count": 51,
   "metadata": {
    "deletable": false,
    "nbgrader": {
     "checksum": "cbf48d2d84052c46ede78306be18a703",
     "grade": false,
     "grade_id": "cell-0beee51a9a82e017",
     "locked": false,
     "schema_version": 1,
     "solution": true
    }
   },
   "outputs": [
    {
     "name": "stdout",
     "output_type": "stream",
     "text": [
      "-0.309803071755\n",
      "0.134383476042\n"
     ]
    }
   ],
   "source": [
    "# 6c) Checking correlations\n",
    "# Answer the following questions by setting to answer variable to 'age', 'steps', or 'income'\n",
    "# Which variable is most correlated with age? Set the answer in a variable called 'age_corr'. \n",
    "# Which variable is most correlated with income? Set the answer in a variable called 'inc_corr'. \n",
    "\n",
    "# YOUR CODE HERE\n",
    "age_corr = corrs['age']['steps']\n",
    "inc_corr = corrs['income']['age']\n",
    "print(age_corr)\n",
    "print(inc_corr)"
   ]
  },
  {
   "cell_type": "code",
   "execution_count": 52,
   "metadata": {
    "collapsed": true,
    "deletable": false,
    "editable": false,
    "nbgrader": {
     "checksum": "9225dd8adb831a36a660b2e006ca42ea",
     "grade": true,
     "grade_id": "cell-d720528b12bb00be",
     "locked": true,
     "points": 0.25,
     "schema_version": 1,
     "solution": false
    }
   },
   "outputs": [],
   "source": [
    "# Tests for 6c\n",
    "\n",
    "assert age_corr\n",
    "assert inc_corr\n"
   ]
  },
  {
   "cell_type": "code",
   "execution_count": 53,
   "metadata": {
    "deletable": false,
    "nbgrader": {
     "checksum": "cba4dafd40ce3185b0b3815b3fbd1faf",
     "grade": false,
     "grade_id": "cell-0cd6f99f2dbdb767",
     "locked": false,
     "schema_version": 1,
     "solution": true
    }
   },
   "outputs": [
    {
     "name": "stdout",
     "output_type": "stream",
     "text": [
      "22274.0\n"
     ]
    }
   ],
   "source": [
    "# 6d) How many steps would you have to walk to be in the top 10% of walkers\n",
    "#  Save you answer as a variable called 'top_walker'\n",
    "#  Hint: check out the 'quantile' method.\n",
    "\n",
    "# YOUR CODE HERE\n",
    "top_walker = df['steps'].quantile(q=0.90)\n",
    "print(top_walker)"
   ]
  },
  {
   "cell_type": "code",
   "execution_count": 54,
   "metadata": {
    "collapsed": true,
    "deletable": false,
    "editable": false,
    "nbgrader": {
     "checksum": "b3a55e0ea665079c4a61ef741950c14e",
     "grade": true,
     "grade_id": "cell-cfed40af74908146",
     "locked": true,
     "points": 0.25,
     "schema_version": 1,
     "solution": false
    }
   },
   "outputs": [],
   "source": [
    "# Tests for 6d\n",
    "\n",
    "assert top_walker\n"
   ]
  },
  {
   "cell_type": "code",
   "execution_count": 55,
   "metadata": {
    "deletable": false,
    "nbgrader": {
     "checksum": "b0af8f4eb7466c9f08f5817891e4ebfa",
     "grade": false,
     "grade_id": "cell-02b8f7a3ac9705f0",
     "locked": false,
     "schema_version": 1,
     "solution": true
    }
   },
   "outputs": [
    {
     "name": "stdout",
     "output_type": "stream",
     "text": [
      "4.105842842795437\n"
     ]
    }
   ],
   "source": [
    "# 6e) What is the average income for people over the age of 45?\n",
    "# Save your response in a variable called 'old_income'.\n",
    "# Note: for this response, keep the answer as the logged value (do no 'un-log' the answer).\n",
    "\n",
    "# YOUR CODE HERE\n",
    "over45 = df[df.age > 45]\n",
    "old_income = over45['income'].mean()\n",
    "print(old_income)"
   ]
  },
  {
   "cell_type": "code",
   "execution_count": 56,
   "metadata": {
    "collapsed": true,
    "deletable": false,
    "editable": false,
    "nbgrader": {
     "checksum": "b7d8ea9f6eca0c17bf70a7ece086ed59",
     "grade": true,
     "grade_id": "cell-332be768960bcc82",
     "locked": true,
     "points": 0.25,
     "schema_version": 1,
     "solution": false
    }
   },
   "outputs": [],
   "source": [
    "# Tests for 6e\n",
    "assert old_income\n"
   ]
  },
  {
   "cell_type": "markdown",
   "metadata": {
    "deletable": false,
    "editable": false,
    "nbgrader": {
     "checksum": "31b2be42435c7206ae0f5bd430498a73",
     "grade": false,
     "grade_id": "part4",
     "locked": true,
     "schema_version": 1,
     "solution": false
    }
   },
   "source": [
    "# Part 7 - Predictions\n",
    "\n",
    "A frequent goal of data analysis is to understand so that we can make predictions about future or unseen data points. \n",
    "\n",
    "Here we will explore some basic predictions, looking into whether we might be able to predict income from our other variables.\n",
    "\n",
    "Notes:\n",
    "- Use the polyfit function from numpy, in the way that we did in 'SectionMaterials/02-DataAnalysis\n",
    "- The predictions for income should be in dollars (so you'll have to 'un-log' the prediction)"
   ]
  },
  {
   "cell_type": "code",
   "execution_count": 57,
   "metadata": {
    "deletable": false,
    "nbgrader": {
     "checksum": "54471a39991fcc3463ae1ceface30fb6",
     "grade": false,
     "grade_id": "model_1",
     "locked": false,
     "schema_version": 1,
     "solution": true
    }
   },
   "outputs": [
    {
     "name": "stdout",
     "output_type": "stream",
     "text": [
      "0.0121310259844 3.41857971482\n"
     ]
    }
   ],
   "source": [
    "# 7a) Use polyfit to fit a 1-degree linear model, predicting income from age.\n",
    "#  Call the output parameters 'a1' and 'b1'\n",
    "\n",
    "# YOUR CODE HERE\n",
    "a1, b1 = np.polyfit(df['age'], df['income'], deg=1) #a1=\"mx\" #b1=\"b\"\n",
    "print(a1, b1)"
   ]
  },
  {
   "cell_type": "code",
   "execution_count": 58,
   "metadata": {
    "collapsed": true,
    "deletable": false,
    "editable": false,
    "nbgrader": {
     "checksum": "d215d28e8f4cfeeaf8d4288d24589aa7",
     "grade": true,
     "grade_id": "test_model_1",
     "locked": true,
     "points": 0.5,
     "schema_version": 1,
     "solution": false
    }
   },
   "outputs": [],
   "source": [
    "# Tests for 7a\n",
    "\n",
    "assert(a1)\n",
    "assert(b1)\n"
   ]
  },
  {
   "cell_type": "code",
   "execution_count": 59,
   "metadata": {
    "deletable": false,
    "nbgrader": {
     "checksum": "5496018bb82e976d164f56e1bad34555",
     "grade": false,
     "grade_id": "pred_1",
     "locked": false,
     "schema_version": 1,
     "solution": true
    }
   },
   "outputs": [
    {
     "name": "stdout",
     "output_type": "stream",
     "text": [
      "21301.3272113\n"
     ]
    }
   ],
   "source": [
    "# 7b) Use the model parameters from 4a to predict the income of a 75 year old. \n",
    "#  Call your prediction 'pred1'.\n",
    "#  Note: Convert the prediction to be in real dollars (not log dollars)\n",
    "\n",
    "# YOUR CODE HERE\n",
    "z = np.array([a1,b1])\n",
    "p = np.poly1d(z)\n",
    "pred1 = 10 ** (p(75))\n",
    "print(pred1)"
   ]
  },
  {
   "cell_type": "code",
   "execution_count": 60,
   "metadata": {
    "collapsed": true,
    "deletable": false,
    "editable": false,
    "nbgrader": {
     "checksum": "e77b7c17067b51c1827efad5b35340e5",
     "grade": true,
     "grade_id": "test_pred_1",
     "locked": true,
     "points": 0.5,
     "schema_version": 1,
     "solution": false
    }
   },
   "outputs": [],
   "source": [
    "# Tests for 7b\n",
    "\n",
    "assert(pred1)\n"
   ]
  },
  {
   "cell_type": "code",
   "execution_count": 61,
   "metadata": {
    "deletable": false,
    "nbgrader": {
     "checksum": "6d76ebeae62a6a73f02fa0553a7b60d6",
     "grade": false,
     "grade_id": "model_2",
     "locked": false,
     "schema_version": 1,
     "solution": true
    }
   },
   "outputs": [
    {
     "name": "stdout",
     "output_type": "stream",
     "text": [
      "3.01310676235e-07 4.02072702924\n"
     ]
    }
   ],
   "source": [
    "# 7c) Use polyfit to fit a 1-degree linear model, predicting income from steps. \n",
    "#  Call the output parameters 'a2' and 'b2'\n",
    "\n",
    "# YOUR CODE HERE\n",
    "a2, b2 = np.polyfit(df['steps'], df['income'], deg = 1)\n",
    "print(a2, b2)"
   ]
  },
  {
   "cell_type": "code",
   "execution_count": 62,
   "metadata": {
    "collapsed": true,
    "deletable": false,
    "editable": false,
    "nbgrader": {
     "checksum": "dc109274304c6d666f9e815ac16b040c",
     "grade": true,
     "grade_id": "test_model_2",
     "locked": true,
     "points": 0.25,
     "schema_version": 1,
     "solution": false
    }
   },
   "outputs": [],
   "source": [
    "# Tests for 7c\n",
    "\n",
    "assert(a2)\n",
    "assert(b2)\n"
   ]
  },
  {
   "cell_type": "code",
   "execution_count": 63,
   "metadata": {
    "deletable": false,
    "nbgrader": {
     "checksum": "f02dd471b219b564897cca2c81cc8a6e",
     "grade": false,
     "grade_id": "pred_2",
     "locked": false,
     "schema_version": 1,
     "solution": true
    }
   },
   "outputs": [
    {
     "name": "stdout",
     "output_type": "stream",
     "text": [
      "10635.3856569\n"
     ]
    }
   ],
   "source": [
    "# 7d) Predict the income of someone who took 20,000 steps. Call your prediction 'pred2'.\n",
    "#  Note: Convert the prediction to be in real dollars (not log dollars)\n",
    "\n",
    "# YOUR CODE HERE\n",
    "z = np.array([a2, b2])\n",
    "p = np.poly1d(z)\n",
    "pred2 = 10 ** (p(20000))\n",
    "print(pred2)"
   ]
  },
  {
   "cell_type": "code",
   "execution_count": 64,
   "metadata": {
    "collapsed": true,
    "deletable": false,
    "editable": false,
    "nbgrader": {
     "checksum": "9c5d08a1bcf70a550c83f686f901750d",
     "grade": true,
     "grade_id": "test_pred_2",
     "locked": true,
     "points": 0.25,
     "schema_version": 1,
     "solution": false
    }
   },
   "outputs": [],
   "source": [
    "# Test for 7d\n",
    "\n",
    "assert(pred2)\n"
   ]
  },
  {
   "cell_type": "code",
   "execution_count": 65,
   "metadata": {
    "deletable": false,
    "nbgrader": {
     "checksum": "377c203ed35c26d32019a7c8f77c65fc",
     "grade": false,
     "grade_id": "better_model",
     "locked": false,
     "schema_version": 1,
     "solution": true
    }
   },
   "outputs": [
    {
     "name": "stdout",
     "output_type": "stream",
     "text": [
      "age\n"
     ]
    }
   ],
   "source": [
    "# 7e) Based on your analysis in Part 3, which model do you think is more likely to have made a good prediction?\n",
    "#  Create a variable called 'better_model', and set it equal to 'age' or 'steps', whichever your answer is.\n",
    "\n",
    "# YOUR CODE HERE\n",
    "better_model = 'age'\n",
    "print(better_model)"
   ]
  },
  {
   "cell_type": "code",
   "execution_count": 66,
   "metadata": {
    "collapsed": true,
    "deletable": false,
    "editable": false,
    "nbgrader": {
     "checksum": "bb0b30c54aca6ddf696fe66d2e054b57",
     "grade": true,
     "grade_id": "test_better_model",
     "locked": true,
     "points": 0.5,
     "schema_version": 1,
     "solution": false
    }
   },
   "outputs": [],
   "source": [
    "assert better_model\n"
   ]
  },
  {
   "cell_type": "markdown",
   "metadata": {
    "deletable": false,
    "editable": false,
    "nbgrader": {
     "checksum": "55fb1243d4664f6df685581415f0180e",
     "grade": false,
     "grade_id": "model_q",
     "locked": true,
     "schema_version": 1,
     "solution": false
    }
   },
   "source": [
    "### W4 - Why do you think (whichever model you answered) is better?"
   ]
  },
  {
   "cell_type": "markdown",
   "metadata": {
    "deletable": false,
    "nbgrader": {
     "checksum": "7b3180949c3c802092447f7c5c73860c",
     "grade": true,
     "grade_id": "model_ans",
     "locked": false,
     "points": 0,
     "schema_version": 1,
     "solution": true
    }
   },
   "source": [
    "The use of the best fit line suggests that the relationship between the variables could be better represented through age rather than steps.\n"
   ]
  },
  {
   "cell_type": "markdown",
   "metadata": {
    "deletable": false,
    "editable": false,
    "nbgrader": {
     "checksum": "6b9a6fb659adcb9ce2e1b8820bf122f7",
     "grade": false,
     "grade_id": "cell-30036fe0c7f49998",
     "locked": true,
     "schema_version": 1,
     "solution": false
    }
   },
   "source": [
    "## 8  - Revisiting Missing Values\n",
    "\n",
    "Originally, we dealt with missing values by either dropping rows that contained them or by replacing them with the mean value of that column. \n",
    "\n",
    "Another approach one can take is to predict missing values, based on the rest of the available data."
   ]
  },
  {
   "cell_type": "code",
   "execution_count": 67,
   "metadata": {
    "collapsed": true,
    "deletable": false,
    "nbgrader": {
     "checksum": "2ee572bdba7235e4ee036d06dc3414b8",
     "grade": false,
     "grade_id": "cell-ee32dbc3740c0f4c",
     "locked": false,
     "schema_version": 1,
     "solution": true
    }
   },
   "outputs": [],
   "source": [
    "# 8a) Create a function named `predict_income` that takes one parameter, `age`.\n",
    "#\n",
    "# This function will take in as input an individual's age, and return their predicted income.\n",
    "# This function should use your parameters `a1` and `b1` to do so.\n",
    "# Also, make sure that the function returns predictions in dollars (not logged values).\n",
    "# Note that this function should require no more than 2 or 3 lines.\n",
    "\n",
    "# YOUR CODE HERE\n",
    "def predict_income(age):\n",
    "    z = np.array([a1, b1])\n",
    "    p = np.poly1d(z)\n",
    "    pred1 = 10 ** (p(age))\n",
    "    return pred1"
   ]
  },
  {
   "cell_type": "code",
   "execution_count": 68,
   "metadata": {
    "collapsed": true,
    "deletable": false,
    "editable": false,
    "nbgrader": {
     "checksum": "8ca4e45c4b27e1f669abdf05d23776c6",
     "grade": true,
     "grade_id": "cell-89038da0487305f5",
     "locked": true,
     "points": 0.5,
     "schema_version": 1,
     "solution": false
    }
   },
   "outputs": [],
   "source": [
    "# Tests for 8a\n",
    "\n",
    "assert callable(predict_income)\n"
   ]
  },
  {
   "cell_type": "code",
   "execution_count": 69,
   "metadata": {
    "collapsed": true,
    "deletable": false,
    "editable": false,
    "nbgrader": {
     "checksum": "efb3604e373e78b4f10546bc92004f66",
     "grade": false,
     "grade_id": "cell-5d51cb2582870be3",
     "locked": true,
     "schema_version": 1,
     "solution": false
    }
   },
   "outputs": [],
   "source": [
    "# Using the function you defined, the following code will apply the function to the dataframe (this code provided)\n",
    "#  Now, the variable 'my_predictions' holds the predicted income for every row in df3. \n",
    "my_predictions = df3['age'].apply(predict_income)"
   ]
  },
  {
   "cell_type": "markdown",
   "metadata": {
    "deletable": false,
    "editable": false,
    "nbgrader": {
     "checksum": "d8f96db3201900f36cc5fad047e3e622",
     "grade": false,
     "grade_id": "cell-42a8d04119c90580",
     "locked": true,
     "schema_version": 1,
     "solution": false
    }
   },
   "source": [
    "### W5: Pandas .apply()\n",
    "\n",
    "The code that you see in the line above uses a pandas method called 'apply'. \n",
    "\n",
    "It is a very powerful method, and can be useful in many situations.\n",
    "\n",
    "Look into the '.apply()' method (remember you can use '?' in notebooks to see documentation). \n",
    "\n",
    "In the cell below, briefly explain what pandas '.apply()' method is, and what it does."
   ]
  },
  {
   "cell_type": "markdown",
   "metadata": {
    "collapsed": true,
    "deletable": false,
    "nbgrader": {
     "checksum": "c47af7dd87157e80c171d730dec1590e",
     "grade": true,
     "grade_id": "cell-e823042187301644",
     "locked": false,
     "points": 0,
     "schema_version": 1,
     "solution": true
    }
   },
   "source": [
    "The apply method takes the individual function and applies it to every aspect of the data frame, such as through the individual columns or individual rows. "
   ]
  },
  {
   "cell_type": "code",
   "execution_count": 70,
   "metadata": {
    "deletable": false,
    "nbgrader": {
     "checksum": "0bdd4232196a1565afdb80eb2afd2c12",
     "grade": false,
     "grade_id": "cell-5bef3033a299977a",
     "locked": false,
     "schema_version": 1,
     "solution": true
    }
   },
   "outputs": [
    {
     "name": "stdout",
     "output_type": "stream",
     "text": [
      "         id  age  steps     income  predicted_income\n",
      "0       125   41  17545   14275.46       8240.466158\n",
      "1       170   38  27851   18030.66       7578.071564\n",
      "2       193   49  16507   11246.64      10303.860921\n",
      "3       291   37  24488    5395.10       7369.324426\n",
      "4       315   46  10468    4834.24       9475.604164\n",
      "5       412   44  16895    4044.98       8960.760259\n",
      "6       480   32  15574   10035.88       6408.738429\n",
      "7       689   49  18892   10607.42      10303.860921\n",
      "8       704   67  14127   16616.84      17035.640073\n",
      "9       967   53  24145   22101.16      11521.899745\n",
      "10      992   72   8829   22748.16      19589.059515\n",
      "11     1095   50  15676   11390.07      10595.733195\n",
      "12     1252   55  14602   20003.66      12183.894897\n",
      "13     1335   50   9444    5714.88      10595.733195\n",
      "14     1467   72     -1  115055.17      19589.059515\n",
      "15     1527   59   8086       0.00      13624.176082\n",
      "16     1545   36  18504   12359.43       7166.327480\n",
      "17     1567   68  19049   24973.75      17518.200061\n",
      "18     1666   59  18463   81222.63      13624.176082\n",
      "19     1797   56  17193   21539.84      12529.021946\n",
      "20     1849   73  10113   39628.83      20143.948928\n",
      "21     2000   56  15299   17127.65      12529.021946\n",
      "22     2349   56  23411   40028.32      12529.021946\n",
      "23     2373   38  18557       0.00       7578.071564\n",
      "24     2481   59  13144   29205.16      13624.176082\n",
      "25     2521   55  13061  101819.97      12183.894897\n",
      "26     2588   80   8746   73068.97      24494.117315\n",
      "27     2652   51  14076    1654.15      10895.873188\n",
      "28     2754   51  14893   12017.54      10895.873188\n",
      "29     2762   56  17658   39920.39      12529.021946\n",
      "...     ...  ...    ...        ...               ...\n",
      "1500  98425   36  15637       0.00       7166.327480\n",
      "1501  98507   28  11558       0.00       5731.237983\n",
      "1502  98599   48  14382   37865.88      10020.028622\n",
      "1503  98683   63  15848   34219.38      15234.715620\n",
      "1504  98705   49  14070    9213.15      10303.860921\n",
      "1505  98735   77  21519   30164.52      22525.203106\n",
      "1506  98873   45  18349   19934.70       9214.587198\n",
      "1507  98898   43  13283   34763.41       8713.925290\n",
      "1508  98918   53  12337   39334.74      11521.899745\n",
      "1509  98963   55  11652   49636.05      12183.894897\n",
      "1510  98992   44  19808   13014.01       8960.760259\n",
      "1511  99004   36  16833   43708.27       7166.327480\n",
      "1512  99028   67  15044   24475.49      17035.640073\n",
      "1513  99033   52  18777   57608.14      11204.515094\n",
      "1514  99133   36  19516    4701.69       7166.327480\n",
      "1515  99190   51  14728    8143.81      10895.873188\n",
      "1516  99262   50  12922   11864.33      10595.733195\n",
      "1517  99344   41     -1  323162.93       8240.466158\n",
      "1518  99393   27  20049   15408.34       5573.364107\n",
      "1519  99403   62  15307   34836.67      14815.056970\n",
      "1520  99454   28  18636    4906.83       5731.237983\n",
      "1521  99466   52  15134  113679.26      11204.515094\n",
      "1522  99471   53  19112   16685.41      11521.899745\n",
      "1523  99526   52   9837   81199.92      11204.515094\n",
      "1524  99585   30  19042    7637.69       6060.528451\n",
      "1525  99649   44  18130   15639.94       8960.760259\n",
      "1526  99742   38  12942   11539.88       7578.071564\n",
      "1527  99757   31  20126    6434.49       6232.201985\n",
      "1528  99813   63  10941   29040.16      15234.715620\n",
      "1529  99946   29  18726   28555.74       5893.583872\n",
      "\n",
      "[1530 rows x 5 columns]\n"
     ]
    }
   ],
   "source": [
    "# 8b) Create a new column in df3 named `predicted_income`. \n",
    "#   This column should includes the income that your model (a1, b1) predicts for each individual given their age. \n",
    "# Hint: you can use 'my_predictions', from above. \n",
    "\n",
    "# YOUR CODE HERE\n",
    "df3['predicted_income'] = my_predictions\n",
    "print(df3)"
   ]
  },
  {
   "cell_type": "code",
   "execution_count": 71,
   "metadata": {
    "collapsed": true,
    "deletable": false,
    "editable": false,
    "nbgrader": {
     "checksum": "a638881ef033b83ece3f6f9be9b37906",
     "grade": true,
     "grade_id": "cell-9fc4e69c2fa2ed33",
     "locked": true,
     "points": 0.5,
     "schema_version": 1,
     "solution": false
    }
   },
   "outputs": [],
   "source": [
    "# Tests for 8b\n",
    "\n",
    "assert 'predicted_income' in df3.columns\n"
   ]
  },
  {
   "cell_type": "markdown",
   "metadata": {
    "deletable": false,
    "editable": false,
    "nbgrader": {
     "checksum": "027532f07c2aa1a8f644cdf57203794e",
     "grade": false,
     "grade_id": "cell-2d9686947e9f2633",
     "locked": true,
     "schema_version": 1,
     "solution": false
    }
   },
   "source": [
    "### W6: When do you think that it is NOT appropiate to use prediction models to fill in missing data? "
   ]
  },
  {
   "cell_type": "markdown",
   "metadata": {
    "collapsed": true,
    "deletable": false,
    "nbgrader": {
     "checksum": "b957f725a18176db30becd41386a2ef7",
     "grade": true,
     "grade_id": "cell-d0b519c4be7a9ca9",
     "locked": false,
     "points": 0,
     "schema_version": 1,
     "solution": true
    }
   },
   "source": [
    "It is not appriopriate to use prediction models like the line of best fit to fill in missing data because the outliers might be a representation of data that is uncorrelated. And, when data is uncorrelated, one cannot predict or assume future data that has no present evidence."
   ]
  },
  {
   "cell_type": "markdown",
   "metadata": {
    "deletable": false,
    "editable": false,
    "nbgrader": {
     "checksum": "134fe3be4538bbbba159c11171994d6c",
     "grade": false,
     "grade_id": "done",
     "locked": true,
     "schema_version": 1,
     "solution": false
    }
   },
   "source": [
    "## Done! Upload this notebook to TritonED"
   ]
  }
 ],
 "metadata": {
  "kernelspec": {
   "display_name": "Python 3",
   "language": "python",
   "name": "python3"
  },
  "language_info": {
   "codemirror_mode": {
    "name": "ipython",
    "version": 3
   },
   "file_extension": ".py",
   "mimetype": "text/x-python",
   "name": "python",
   "nbconvert_exporter": "python",
   "pygments_lexer": "ipython3",
   "version": "3.6.3"
  }
 },
 "nbformat": 4,
 "nbformat_minor": 2
}
